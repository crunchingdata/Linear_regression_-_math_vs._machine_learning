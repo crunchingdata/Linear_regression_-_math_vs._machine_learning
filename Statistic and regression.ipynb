{
 "cells": [
  {
   "cell_type": "code",
   "execution_count": 1,
   "id": "083a1338",
   "metadata": {},
   "outputs": [],
   "source": [
    "import pandas as pd\n",
    "import numpy as np\n",
    "import math\n",
    "import seaborn as sns\n",
    "import matplotlib.pyplot as plt\n",
    "import statistics as st"
   ]
  },
  {
   "cell_type": "code",
   "execution_count": 2,
   "id": "8025e7de",
   "metadata": {},
   "outputs": [],
   "source": [
    "filename = 'Schuhe Menschen.xlsx'\n",
    "my_xlsx_data = pd.read_excel(filename)"
   ]
  },
  {
   "cell_type": "code",
   "execution_count": 3,
   "id": "bfd25a1f",
   "metadata": {},
   "outputs": [
    {
     "data": {
      "text/html": [
       "<div>\n",
       "<style scoped>\n",
       "    .dataframe tbody tr th:only-of-type {\n",
       "        vertical-align: middle;\n",
       "    }\n",
       "\n",
       "    .dataframe tbody tr th {\n",
       "        vertical-align: top;\n",
       "    }\n",
       "\n",
       "    .dataframe thead th {\n",
       "        text-align: right;\n",
       "    }\n",
       "</style>\n",
       "<table border=\"1\" class=\"dataframe\">\n",
       "  <thead>\n",
       "    <tr style=\"text-align: right;\">\n",
       "      <th></th>\n",
       "      <th>Körpergröße</th>\n",
       "      <th>Gewicht</th>\n",
       "      <th>Schuhgröße</th>\n",
       "    </tr>\n",
       "  </thead>\n",
       "  <tbody>\n",
       "    <tr>\n",
       "      <th>0</th>\n",
       "      <td>165</td>\n",
       "      <td>49</td>\n",
       "      <td>36.5</td>\n",
       "    </tr>\n",
       "    <tr>\n",
       "      <th>1</th>\n",
       "      <td>168</td>\n",
       "      <td>68</td>\n",
       "      <td>37.0</td>\n",
       "    </tr>\n",
       "    <tr>\n",
       "      <th>2</th>\n",
       "      <td>172</td>\n",
       "      <td>77</td>\n",
       "      <td>39.5</td>\n",
       "    </tr>\n",
       "    <tr>\n",
       "      <th>3</th>\n",
       "      <td>174</td>\n",
       "      <td>65</td>\n",
       "      <td>37.5</td>\n",
       "    </tr>\n",
       "    <tr>\n",
       "      <th>4</th>\n",
       "      <td>170</td>\n",
       "      <td>58</td>\n",
       "      <td>37.5</td>\n",
       "    </tr>\n",
       "    <tr>\n",
       "      <th>5</th>\n",
       "      <td>171</td>\n",
       "      <td>62</td>\n",
       "      <td>38.0</td>\n",
       "    </tr>\n",
       "    <tr>\n",
       "      <th>6</th>\n",
       "      <td>164</td>\n",
       "      <td>61</td>\n",
       "      <td>36.0</td>\n",
       "    </tr>\n",
       "    <tr>\n",
       "      <th>7</th>\n",
       "      <td>173</td>\n",
       "      <td>71</td>\n",
       "      <td>38.5</td>\n",
       "    </tr>\n",
       "    <tr>\n",
       "      <th>8</th>\n",
       "      <td>169</td>\n",
       "      <td>50</td>\n",
       "      <td>37.0</td>\n",
       "    </tr>\n",
       "    <tr>\n",
       "      <th>9</th>\n",
       "      <td>163</td>\n",
       "      <td>74</td>\n",
       "      <td>37.0</td>\n",
       "    </tr>\n",
       "  </tbody>\n",
       "</table>\n",
       "</div>"
      ],
      "text/plain": [
       "   Körpergröße  Gewicht  Schuhgröße\n",
       "0          165       49        36.5\n",
       "1          168       68        37.0\n",
       "2          172       77        39.5\n",
       "3          174       65        37.5\n",
       "4          170       58        37.5\n",
       "5          171       62        38.0\n",
       "6          164       61        36.0\n",
       "7          173       71        38.5\n",
       "8          169       50        37.0\n",
       "9          163       74        37.0"
      ]
     },
     "execution_count": 3,
     "metadata": {},
     "output_type": "execute_result"
    }
   ],
   "source": [
    "my_xlsx_data"
   ]
  },
  {
   "cell_type": "markdown",
   "id": "3954c78d",
   "metadata": {},
   "source": [
    "# pearson correlation"
   ]
  },
  {
   "cell_type": "code",
   "execution_count": 4,
   "id": "6d42b3ab",
   "metadata": {},
   "outputs": [],
   "source": [
    "# proof of wich two columns have a correlation to shoesize\n",
    "# np.corrcoef(x, y)\n",
    "x = np.array(my_xlsx_data['Körpergröße'])\n",
    "y = np.array(my_xlsx_data['Gewicht'])\n",
    "z = np.array(my_xlsx_data['Schuhgröße'])"
   ]
  },
  {
   "cell_type": "code",
   "execution_count": 5,
   "id": "845fe500",
   "metadata": {},
   "outputs": [
    {
     "data": {
      "text/html": [
       "<div>\n",
       "<style scoped>\n",
       "    .dataframe tbody tr th:only-of-type {\n",
       "        vertical-align: middle;\n",
       "    }\n",
       "\n",
       "    .dataframe tbody tr th {\n",
       "        vertical-align: top;\n",
       "    }\n",
       "\n",
       "    .dataframe thead th {\n",
       "        text-align: right;\n",
       "    }\n",
       "</style>\n",
       "<table border=\"1\" class=\"dataframe\">\n",
       "  <thead>\n",
       "    <tr style=\"text-align: right;\">\n",
       "      <th></th>\n",
       "      <th>0</th>\n",
       "      <th>1</th>\n",
       "      <th>2</th>\n",
       "    </tr>\n",
       "  </thead>\n",
       "  <tbody>\n",
       "    <tr>\n",
       "      <th>0</th>\n",
       "      <td>165.0</td>\n",
       "      <td>49.0</td>\n",
       "      <td>36.5</td>\n",
       "    </tr>\n",
       "    <tr>\n",
       "      <th>1</th>\n",
       "      <td>168.0</td>\n",
       "      <td>68.0</td>\n",
       "      <td>37.0</td>\n",
       "    </tr>\n",
       "    <tr>\n",
       "      <th>2</th>\n",
       "      <td>172.0</td>\n",
       "      <td>77.0</td>\n",
       "      <td>39.5</td>\n",
       "    </tr>\n",
       "    <tr>\n",
       "      <th>3</th>\n",
       "      <td>174.0</td>\n",
       "      <td>65.0</td>\n",
       "      <td>37.5</td>\n",
       "    </tr>\n",
       "    <tr>\n",
       "      <th>4</th>\n",
       "      <td>170.0</td>\n",
       "      <td>58.0</td>\n",
       "      <td>37.5</td>\n",
       "    </tr>\n",
       "    <tr>\n",
       "      <th>5</th>\n",
       "      <td>171.0</td>\n",
       "      <td>62.0</td>\n",
       "      <td>38.0</td>\n",
       "    </tr>\n",
       "    <tr>\n",
       "      <th>6</th>\n",
       "      <td>164.0</td>\n",
       "      <td>61.0</td>\n",
       "      <td>36.0</td>\n",
       "    </tr>\n",
       "    <tr>\n",
       "      <th>7</th>\n",
       "      <td>173.0</td>\n",
       "      <td>71.0</td>\n",
       "      <td>38.5</td>\n",
       "    </tr>\n",
       "    <tr>\n",
       "      <th>8</th>\n",
       "      <td>169.0</td>\n",
       "      <td>50.0</td>\n",
       "      <td>37.0</td>\n",
       "    </tr>\n",
       "    <tr>\n",
       "      <th>9</th>\n",
       "      <td>163.0</td>\n",
       "      <td>74.0</td>\n",
       "      <td>37.0</td>\n",
       "    </tr>\n",
       "  </tbody>\n",
       "</table>\n",
       "</div>"
      ],
      "text/plain": [
       "       0     1     2\n",
       "0  165.0  49.0  36.5\n",
       "1  168.0  68.0  37.0\n",
       "2  172.0  77.0  39.5\n",
       "3  174.0  65.0  37.5\n",
       "4  170.0  58.0  37.5\n",
       "5  171.0  62.0  38.0\n",
       "6  164.0  61.0  36.0\n",
       "7  173.0  71.0  38.5\n",
       "8  169.0  50.0  37.0\n",
       "9  163.0  74.0  37.0"
      ]
     },
     "execution_count": 5,
     "metadata": {},
     "output_type": "execute_result"
    }
   ],
   "source": [
    "shoe_df = pd.DataFrame([x,y,z]).T\n",
    "shoe_df"
   ]
  },
  {
   "cell_type": "code",
   "execution_count": 6,
   "id": "89d847bf",
   "metadata": {},
   "outputs": [
    {
     "data": {
      "text/plain": [
       "0.7411253770427023"
      ]
     },
     "execution_count": 6,
     "metadata": {},
     "output_type": "execute_result"
    }
   ],
   "source": [
    "r_x_z = np.corrcoef(x, z)\n",
    "r_x_z[1,0]"
   ]
  },
  {
   "cell_type": "code",
   "execution_count": 7,
   "id": "2219043e",
   "metadata": {},
   "outputs": [
    {
     "data": {
      "text/plain": [
       "0.5956459068799445"
      ]
     },
     "execution_count": 7,
     "metadata": {},
     "output_type": "execute_result"
    }
   ],
   "source": [
    "r_y_z = np.corrcoef(y, z)\n",
    "r_y_z[1,0]"
   ]
  },
  {
   "cell_type": "code",
   "execution_count": 8,
   "id": "358303cb",
   "metadata": {},
   "outputs": [
    {
     "data": {
      "text/html": [
       "<div>\n",
       "<style scoped>\n",
       "    .dataframe tbody tr th:only-of-type {\n",
       "        vertical-align: middle;\n",
       "    }\n",
       "\n",
       "    .dataframe tbody tr th {\n",
       "        vertical-align: top;\n",
       "    }\n",
       "\n",
       "    .dataframe thead th {\n",
       "        text-align: right;\n",
       "    }\n",
       "</style>\n",
       "<table border=\"1\" class=\"dataframe\">\n",
       "  <thead>\n",
       "    <tr style=\"text-align: right;\">\n",
       "      <th></th>\n",
       "      <th>Körpergröße</th>\n",
       "      <th>Gewicht</th>\n",
       "      <th>Schuhgröße</th>\n",
       "    </tr>\n",
       "  </thead>\n",
       "  <tbody>\n",
       "    <tr>\n",
       "      <th>Körpergröße</th>\n",
       "      <td>1.000000</td>\n",
       "      <td>0.222000</td>\n",
       "      <td>0.741125</td>\n",
       "    </tr>\n",
       "    <tr>\n",
       "      <th>Gewicht</th>\n",
       "      <td>0.222000</td>\n",
       "      <td>1.000000</td>\n",
       "      <td>0.595646</td>\n",
       "    </tr>\n",
       "    <tr>\n",
       "      <th>Schuhgröße</th>\n",
       "      <td>0.741125</td>\n",
       "      <td>0.595646</td>\n",
       "      <td>1.000000</td>\n",
       "    </tr>\n",
       "  </tbody>\n",
       "</table>\n",
       "</div>"
      ],
      "text/plain": [
       "             Körpergröße   Gewicht  Schuhgröße\n",
       "Körpergröße     1.000000  0.222000    0.741125\n",
       "Gewicht         0.222000  1.000000    0.595646\n",
       "Schuhgröße      0.741125  0.595646    1.000000"
      ]
     },
     "execution_count": 8,
     "metadata": {},
     "output_type": "execute_result"
    }
   ],
   "source": [
    "#more simple .corr() method\n",
    "my_xlsx_data.corr()"
   ]
  },
  {
   "cell_type": "code",
   "execution_count": 9,
   "id": "05fc4654",
   "metadata": {},
   "outputs": [
    {
     "data": {
      "text/plain": [
       "0.5956459068799445"
      ]
     },
     "execution_count": 9,
     "metadata": {},
     "output_type": "execute_result"
    }
   ],
   "source": [
    "# calculation with formula\n",
    "n=len(x)\n",
    "r_y_z_m = (n*sum(y*z)-sum(y)*sum(z))/(math.sqrt(n*sum(y**2)-sum(y)**2)*math.sqrt(n*sum(z**2)-sum(z)**2))\n",
    "r_y_z_m"
   ]
  },
  {
   "cell_type": "code",
   "execution_count": 10,
   "id": "0a51ad17",
   "metadata": {},
   "outputs": [
    {
     "data": {
      "text/plain": [
       "0.7411253770427021"
      ]
     },
     "execution_count": 10,
     "metadata": {},
     "output_type": "execute_result"
    }
   ],
   "source": [
    "n=len(x)\n",
    "r_x_z_m = (n*sum(x*z)-sum(x)*sum(z))/(math.sqrt(n*sum(x**2)-sum(x)**2)*math.sqrt(n*sum(z**2)-sum(z)**2))\n",
    "r_x_z_m\n",
    "#  high and shoesize correlate better"
   ]
  },
  {
   "cell_type": "markdown",
   "id": "4d93671c",
   "metadata": {},
   "source": [
    "# linear regression"
   ]
  },
  {
   "cell_type": "code",
   "execution_count": 11,
   "id": "44c34053",
   "metadata": {},
   "outputs": [],
   "source": [
    "# Funktion for the line of linear regression\n",
    "def lin_reg(x,y):\n",
    "    m=(n*sum(x*y)-sum(x)*sum(y))/(n*sum(x**2)-sum(x)**2)\n",
    "    b = (sum(y)-m*sum(x))/n\n",
    "    return pd.DataFrame(m*x+b,my_xlsx_data['Schuhgröße'])"
   ]
  },
  {
   "cell_type": "code",
   "execution_count": 12,
   "id": "e9ea4c8f",
   "metadata": {},
   "outputs": [
    {
     "data": {
      "text/plain": [
       "<AxesSubplot: xlabel='Schuhgröße', ylabel='Körpergröße'>"
      ]
     },
     "execution_count": 12,
     "metadata": {},
     "output_type": "execute_result"
    },
    {
     "data": {
      "image/png": "[encoded data removed]",
      "text/plain": [
       "<Figure size 640x480 with 1 Axes>"
      ]
     },
     "metadata": {},
     "output_type": "display_data"
    }
   ],
   "source": [
    "# does the function lin_reg(x,y) work?\n",
    "sns.regplot(data = my_xlsx_data, x = 'Schuhgröße', y= 'Körpergröße')\n",
    "sns.lineplot(data = lin_reg(z,x),x = 'Schuhgröße',y = 0)"
   ]
  },
  {
   "cell_type": "code",
   "execution_count": 13,
   "id": "f9e135d3",
   "metadata": {},
   "outputs": [],
   "source": [
    "# Function for m and b of y = m*x +b\n",
    "def lin_reg_m_b(x,y):\n",
    "    m=(n*sum(x*y)-sum(x)*sum(y))/(n*sum(x**2)-sum(x)**2)\n",
    "    b = (sum(y)-m*sum(x))/n\n",
    "    return [m,b]"
   ]
  },
  {
   "cell_type": "code",
   "execution_count": 14,
   "id": "b295a6ad",
   "metadata": {},
   "outputs": [],
   "source": [
    "# Prognostic function\n",
    "m = lin_reg_m_b(z,x)[0]\n",
    "b = lin_reg_m_b(z,x)[1]\n",
    "def lin_reg_prog(x):\n",
    "    return m*x+b"
   ]
  },
  {
   "cell_type": "code",
   "execution_count": 15,
   "id": "20bc526a",
   "metadata": {},
   "outputs": [
    {
     "data": {
      "text/plain": [
       "178.8861788617886"
      ]
     },
     "execution_count": 15,
     "metadata": {},
     "output_type": "execute_result"
    }
   ],
   "source": [
    "# shoesize 41 should be around the high of...\n",
    "lin_reg_prog(41)"
   ]
  },
  {
   "cell_type": "markdown",
   "id": "8787691f",
   "metadata": {},
   "source": [
    "# Who good are our prognostic's with regression ?"
   ]
  },
  {
   "cell_type": "code",
   "execution_count": 16,
   "id": "580bb478",
   "metadata": {},
   "outputs": [
    {
     "data": {
      "text/html": [
       "<div>\n",
       "<style scoped>\n",
       "    .dataframe tbody tr th:only-of-type {\n",
       "        vertical-align: middle;\n",
       "    }\n",
       "\n",
       "    .dataframe tbody tr th {\n",
       "        vertical-align: top;\n",
       "    }\n",
       "\n",
       "    .dataframe thead th {\n",
       "        text-align: right;\n",
       "    }\n",
       "</style>\n",
       "<table border=\"1\" class=\"dataframe\">\n",
       "  <thead>\n",
       "    <tr style=\"text-align: right;\">\n",
       "      <th></th>\n",
       "      <th>y</th>\n",
       "    </tr>\n",
       "    <tr>\n",
       "      <th>x</th>\n",
       "      <th></th>\n",
       "    </tr>\n",
       "  </thead>\n",
       "  <tbody>\n",
       "    <tr>\n",
       "      <th>1</th>\n",
       "      <td>4</td>\n",
       "    </tr>\n",
       "    <tr>\n",
       "      <th>2</th>\n",
       "      <td>6</td>\n",
       "    </tr>\n",
       "    <tr>\n",
       "      <th>3</th>\n",
       "      <td>7</td>\n",
       "    </tr>\n",
       "    <tr>\n",
       "      <th>4</th>\n",
       "      <td>9</td>\n",
       "    </tr>\n",
       "    <tr>\n",
       "      <th>5</th>\n",
       "      <td>10</td>\n",
       "    </tr>\n",
       "  </tbody>\n",
       "</table>\n",
       "</div>"
      ],
      "text/plain": [
       "    y\n",
       "x    \n",
       "1   4\n",
       "2   6\n",
       "3   7\n",
       "4   9\n",
       "5  10"
      ]
     },
     "execution_count": 16,
     "metadata": {},
     "output_type": "execute_result"
    }
   ],
   "source": [
    "data = pd.DataFrame([[1,2,3,4,5],[4,6,7,9,10]]).T\n",
    "data.columns = ['x','y']\n",
    "data.set_index('x', inplace = True)\n",
    "data"
   ]
  },
  {
   "cell_type": "code",
   "execution_count": 17,
   "id": "87febd9e",
   "metadata": {},
   "outputs": [],
   "source": [
    "n=len(data['y'])\n",
    "def lin_reg_m_b(x,y):\n",
    "    m=(n*sum(x*y)-sum(x)*sum(y))/(n*sum(x**2)-sum(x)**2)\n",
    "    b = (sum(y)-m*sum(x))/n\n",
    "    return [m,b]"
   ]
  },
  {
   "cell_type": "code",
   "execution_count": 18,
   "id": "2bb8e0dd",
   "metadata": {},
   "outputs": [
    {
     "data": {
      "text/plain": [
       "[1.5, 2.7]"
      ]
     },
     "execution_count": 18,
     "metadata": {},
     "output_type": "execute_result"
    }
   ],
   "source": [
    "lin_reg_m_b(data.index,data['y'])"
   ]
  },
  {
   "cell_type": "code",
   "execution_count": 19,
   "id": "1b688870",
   "metadata": {},
   "outputs": [],
   "source": [
    "# given Regression line\n",
    "def y(x):\n",
    "    return 1.5*x+2.7"
   ]
  },
  {
   "cell_type": "markdown",
   "id": "6199a92a",
   "metadata": {},
   "source": [
    "## residual / Residuen"
   ]
  },
  {
   "cell_type": "code",
   "execution_count": 20,
   "id": "54f2de3b",
   "metadata": {},
   "outputs": [
    {
     "data": {
      "text/plain": [
       "-0.20000000000000018"
      ]
     },
     "execution_count": 20,
     "metadata": {},
     "output_type": "execute_result"
    }
   ],
   "source": [
    "# one residual e_i is the differenz between data and prognostic\n",
    "e_1 = data['y'][1]-y(1)\n",
    "e_1"
   ]
  },
  {
   "cell_type": "code",
   "execution_count": 21,
   "id": "b7ede09e",
   "metadata": {},
   "outputs": [
    {
     "data": {
      "text/plain": [
       "0.0"
      ]
     },
     "execution_count": 21,
     "metadata": {},
     "output_type": "execute_result"
    }
   ],
   "source": [
    "# the sum of residuals is 0 because of definition of regression line\n",
    "round(sum(pd.array(data['y'])-pd.array(y(data.index))),14)\n",
    "# here because of floats inaccurate beginning bei deciaml number 15"
   ]
  },
  {
   "cell_type": "markdown",
   "id": "f1259a50",
   "metadata": {},
   "source": [
    "# MSE / Mean squared error / mittlerer quadratischer Fehler"
   ]
  },
  {
   "cell_type": "code",
   "execution_count": 22,
   "id": "c85a7fa7",
   "metadata": {},
   "outputs": [
    {
     "data": {
      "text/plain": [
       "0.04000000000000007"
      ]
     },
     "execution_count": 22,
     "metadata": {},
     "output_type": "execute_result"
    }
   ],
   "source": [
    "# square residual:\n",
    "e_1 = (data['y'][1]-y(1))**2\n",
    "e_1"
   ]
  },
  {
   "cell_type": "code",
   "execution_count": 23,
   "id": "3a69c610",
   "metadata": {},
   "outputs": [
    {
     "data": {
      "text/plain": [
       "0.06"
      ]
     },
     "execution_count": 23,
     "metadata": {},
     "output_type": "execute_result"
    }
   ],
   "source": [
    "# MSE it is just the mean over the square residual:\n",
    "round(st.mean((pd.array(data['y'])-pd.array(y(data.index)))**2),14)\n",
    "# MSE is more perseptive to outliers"
   ]
  },
  {
   "cell_type": "markdown",
   "id": "445c6188",
   "metadata": {},
   "source": [
    "## MAE / mean absolut error / mittlere absolute Fehler"
   ]
  },
  {
   "cell_type": "code",
   "execution_count": 24,
   "id": "98342590",
   "metadata": {},
   "outputs": [
    {
     "data": {
      "text/plain": [
       "0.20000000000000018"
      ]
     },
     "execution_count": 24,
     "metadata": {},
     "output_type": "execute_result"
    }
   ],
   "source": [
    "# absolute residual:\n",
    "e_1 = abs(data['y'][1]-y(1))\n",
    "e_1"
   ]
  },
  {
   "cell_type": "code",
   "execution_count": 25,
   "id": "3911ca21",
   "metadata": {},
   "outputs": [
    {
     "data": {
      "text/plain": [
       "0.24"
      ]
     },
     "execution_count": 25,
     "metadata": {},
     "output_type": "execute_result"
    }
   ],
   "source": [
    "# MSA it is just the mean over the absolute residual:\n",
    "round(st.mean(abs(pd.array(data['y'])-pd.array(y(data.index)))),14)"
   ]
  },
  {
   "cell_type": "markdown",
   "id": "99d063f8",
   "metadata": {},
   "source": [
    "## Coefficient of Determination"
   ]
  },
  {
   "cell_type": "code",
   "execution_count": 27,
   "id": "fc84fa1b",
   "metadata": {},
   "outputs": [
    {
     "data": {
      "text/html": [
       "<div>\n",
       "<style scoped>\n",
       "    .dataframe tbody tr th:only-of-type {\n",
       "        vertical-align: middle;\n",
       "    }\n",
       "\n",
       "    .dataframe tbody tr th {\n",
       "        vertical-align: top;\n",
       "    }\n",
       "\n",
       "    .dataframe thead th {\n",
       "        text-align: right;\n",
       "    }\n",
       "</style>\n",
       "<table border=\"1\" class=\"dataframe\">\n",
       "  <thead>\n",
       "    <tr style=\"text-align: right;\">\n",
       "      <th></th>\n",
       "      <th>Körpergröße</th>\n",
       "      <th>Gewicht</th>\n",
       "      <th>Schuhgröße</th>\n",
       "    </tr>\n",
       "  </thead>\n",
       "  <tbody>\n",
       "    <tr>\n",
       "      <th>0</th>\n",
       "      <td>165</td>\n",
       "      <td>49</td>\n",
       "      <td>36.5</td>\n",
       "    </tr>\n",
       "    <tr>\n",
       "      <th>1</th>\n",
       "      <td>168</td>\n",
       "      <td>68</td>\n",
       "      <td>37.0</td>\n",
       "    </tr>\n",
       "    <tr>\n",
       "      <th>2</th>\n",
       "      <td>172</td>\n",
       "      <td>77</td>\n",
       "      <td>39.5</td>\n",
       "    </tr>\n",
       "    <tr>\n",
       "      <th>3</th>\n",
       "      <td>174</td>\n",
       "      <td>65</td>\n",
       "      <td>37.5</td>\n",
       "    </tr>\n",
       "    <tr>\n",
       "      <th>4</th>\n",
       "      <td>170</td>\n",
       "      <td>58</td>\n",
       "      <td>37.5</td>\n",
       "    </tr>\n",
       "    <tr>\n",
       "      <th>5</th>\n",
       "      <td>171</td>\n",
       "      <td>62</td>\n",
       "      <td>38.0</td>\n",
       "    </tr>\n",
       "    <tr>\n",
       "      <th>6</th>\n",
       "      <td>164</td>\n",
       "      <td>61</td>\n",
       "      <td>36.0</td>\n",
       "    </tr>\n",
       "    <tr>\n",
       "      <th>7</th>\n",
       "      <td>173</td>\n",
       "      <td>71</td>\n",
       "      <td>38.5</td>\n",
       "    </tr>\n",
       "    <tr>\n",
       "      <th>8</th>\n",
       "      <td>169</td>\n",
       "      <td>50</td>\n",
       "      <td>37.0</td>\n",
       "    </tr>\n",
       "    <tr>\n",
       "      <th>9</th>\n",
       "      <td>163</td>\n",
       "      <td>74</td>\n",
       "      <td>37.0</td>\n",
       "    </tr>\n",
       "  </tbody>\n",
       "</table>\n",
       "</div>"
      ],
      "text/plain": [
       "   Körpergröße  Gewicht  Schuhgröße\n",
       "0          165       49        36.5\n",
       "1          168       68        37.0\n",
       "2          172       77        39.5\n",
       "3          174       65        37.5\n",
       "4          170       58        37.5\n",
       "5          171       62        38.0\n",
       "6          164       61        36.0\n",
       "7          173       71        38.5\n",
       "8          169       50        37.0\n",
       "9          163       74        37.0"
      ]
     },
     "execution_count": 27,
     "metadata": {},
     "output_type": "execute_result"
    }
   ],
   "source": [
    "my_xlsx_data"
   ]
  },
  {
   "cell_type": "code",
   "execution_count": 28,
   "id": "db3919d3",
   "metadata": {},
   "outputs": [
    {
     "data": {
      "text/plain": [
       "0.7411253770427021"
      ]
     },
     "execution_count": 28,
     "metadata": {},
     "output_type": "execute_result"
    }
   ],
   "source": [
    "# for simple models like linear regression Coefficient of Determination is square pearson-Coefficient\n",
    "r_x_z_m"
   ]
  },
  {
   "cell_type": "code",
   "execution_count": 31,
   "id": "cb44a1b0",
   "metadata": {},
   "outputs": [
    {
     "data": {
      "text/plain": [
       "0.5492668244966873"
      ]
     },
     "execution_count": 31,
     "metadata": {},
     "output_type": "execute_result"
    }
   ],
   "source": [
    "r_x_z_m_sq = r_x_z_m**2\n",
    "r_x_z_m_sq"
   ]
  },
  {
   "cell_type": "code",
   "execution_count": 33,
   "id": "9c13bd04",
   "metadata": {},
   "outputs": [],
   "source": [
    "# manual callculation of the lin regression\n",
    "n=len(my_xlsx_data['Schuhgröße'])\n",
    "def lin_reg_m_b(x,y):\n",
    "    m=(n*sum(x*y)-sum(x)*sum(y))/(n*sum(x**2)-sum(x)**2)\n",
    "    b = (sum(y)-m*sum(x))/n\n",
    "    return [m,b]"
   ]
  },
  {
   "cell_type": "code",
   "execution_count": 34,
   "id": "72a1b24a",
   "metadata": {},
   "outputs": [
    {
     "data": {
      "text/plain": [
       "[2.813008130081301, 63.55284552845528]"
      ]
     },
     "execution_count": 34,
     "metadata": {},
     "output_type": "execute_result"
    }
   ],
   "source": [
    "lin_reg_m_b(my_xlsx_data['Schuhgröße'],my_xlsx_data['Körpergröße'])"
   ]
  },
  {
   "cell_type": "code",
   "execution_count": 35,
   "id": "01e8a907",
   "metadata": {},
   "outputs": [],
   "source": [
    "m = lin_reg_m_b(my_xlsx_data['Schuhgröße'],my_xlsx_data['Körpergröße'])[0]\n",
    "b = lin_reg_m_b(my_xlsx_data['Schuhgröße'],my_xlsx_data['Körpergröße'])[1]\n",
    "def y(x):\n",
    "    return m*x+b"
   ]
  },
  {
   "cell_type": "code",
   "execution_count": 44,
   "id": "8999dd07",
   "metadata": {},
   "outputs": [
    {
     "data": {
      "text/html": [
       "<div>\n",
       "<style scoped>\n",
       "    .dataframe tbody tr th:only-of-type {\n",
       "        vertical-align: middle;\n",
       "    }\n",
       "\n",
       "    .dataframe tbody tr th {\n",
       "        vertical-align: top;\n",
       "    }\n",
       "\n",
       "    .dataframe thead th {\n",
       "        text-align: right;\n",
       "    }\n",
       "</style>\n",
       "<table border=\"1\" class=\"dataframe\">\n",
       "  <thead>\n",
       "    <tr style=\"text-align: right;\">\n",
       "      <th></th>\n",
       "      <th>Körpergröße</th>\n",
       "      <th>Gewicht</th>\n",
       "      <th>Schuhgröße</th>\n",
       "    </tr>\n",
       "  </thead>\n",
       "  <tbody>\n",
       "    <tr>\n",
       "      <th>0</th>\n",
       "      <td>165</td>\n",
       "      <td>49</td>\n",
       "      <td>36.5</td>\n",
       "    </tr>\n",
       "    <tr>\n",
       "      <th>1</th>\n",
       "      <td>168</td>\n",
       "      <td>68</td>\n",
       "      <td>37.0</td>\n",
       "    </tr>\n",
       "    <tr>\n",
       "      <th>2</th>\n",
       "      <td>172</td>\n",
       "      <td>77</td>\n",
       "      <td>39.5</td>\n",
       "    </tr>\n",
       "    <tr>\n",
       "      <th>3</th>\n",
       "      <td>174</td>\n",
       "      <td>65</td>\n",
       "      <td>37.5</td>\n",
       "    </tr>\n",
       "    <tr>\n",
       "      <th>4</th>\n",
       "      <td>170</td>\n",
       "      <td>58</td>\n",
       "      <td>37.5</td>\n",
       "    </tr>\n",
       "  </tbody>\n",
       "</table>\n",
       "</div>"
      ],
      "text/plain": [
       "   Körpergröße  Gewicht  Schuhgröße\n",
       "0          165       49        36.5\n",
       "1          168       68        37.0\n",
       "2          172       77        39.5\n",
       "3          174       65        37.5\n",
       "4          170       58        37.5"
      ]
     },
     "execution_count": 44,
     "metadata": {},
     "output_type": "execute_result"
    }
   ],
   "source": [
    "# making copy vor merging mean and linear regression\n",
    "data1 = my_xlsx_data.copy()\n",
    "data1.head()"
   ]
  },
  {
   "cell_type": "code",
   "execution_count": 47,
   "id": "d5bf470a",
   "metadata": {},
   "outputs": [],
   "source": [
    "data1['lin Regression'] = y(data1['Schuhgröße'])\n",
    "data1['mean'] = data1['Körpergröße'].mean()"
   ]
  },
  {
   "cell_type": "code",
   "execution_count": 48,
   "id": "df492742",
   "metadata": {},
   "outputs": [
    {
     "data": {
      "text/html": [
       "<div>\n",
       "<style scoped>\n",
       "    .dataframe tbody tr th:only-of-type {\n",
       "        vertical-align: middle;\n",
       "    }\n",
       "\n",
       "    .dataframe tbody tr th {\n",
       "        vertical-align: top;\n",
       "    }\n",
       "\n",
       "    .dataframe thead th {\n",
       "        text-align: right;\n",
       "    }\n",
       "</style>\n",
       "<table border=\"1\" class=\"dataframe\">\n",
       "  <thead>\n",
       "    <tr style=\"text-align: right;\">\n",
       "      <th></th>\n",
       "      <th>Körpergröße</th>\n",
       "      <th>Gewicht</th>\n",
       "      <th>Schuhgröße</th>\n",
       "      <th>lin Regression</th>\n",
       "      <th>mean</th>\n",
       "    </tr>\n",
       "  </thead>\n",
       "  <tbody>\n",
       "    <tr>\n",
       "      <th>0</th>\n",
       "      <td>165</td>\n",
       "      <td>49</td>\n",
       "      <td>36.5</td>\n",
       "      <td>166.227642</td>\n",
       "      <td>168.9</td>\n",
       "    </tr>\n",
       "    <tr>\n",
       "      <th>1</th>\n",
       "      <td>168</td>\n",
       "      <td>68</td>\n",
       "      <td>37.0</td>\n",
       "      <td>167.634146</td>\n",
       "      <td>168.9</td>\n",
       "    </tr>\n",
       "    <tr>\n",
       "      <th>2</th>\n",
       "      <td>172</td>\n",
       "      <td>77</td>\n",
       "      <td>39.5</td>\n",
       "      <td>174.666667</td>\n",
       "      <td>168.9</td>\n",
       "    </tr>\n",
       "    <tr>\n",
       "      <th>3</th>\n",
       "      <td>174</td>\n",
       "      <td>65</td>\n",
       "      <td>37.5</td>\n",
       "      <td>169.040650</td>\n",
       "      <td>168.9</td>\n",
       "    </tr>\n",
       "    <tr>\n",
       "      <th>4</th>\n",
       "      <td>170</td>\n",
       "      <td>58</td>\n",
       "      <td>37.5</td>\n",
       "      <td>169.040650</td>\n",
       "      <td>168.9</td>\n",
       "    </tr>\n",
       "    <tr>\n",
       "      <th>5</th>\n",
       "      <td>171</td>\n",
       "      <td>62</td>\n",
       "      <td>38.0</td>\n",
       "      <td>170.447154</td>\n",
       "      <td>168.9</td>\n",
       "    </tr>\n",
       "    <tr>\n",
       "      <th>6</th>\n",
       "      <td>164</td>\n",
       "      <td>61</td>\n",
       "      <td>36.0</td>\n",
       "      <td>164.821138</td>\n",
       "      <td>168.9</td>\n",
       "    </tr>\n",
       "    <tr>\n",
       "      <th>7</th>\n",
       "      <td>173</td>\n",
       "      <td>71</td>\n",
       "      <td>38.5</td>\n",
       "      <td>171.853659</td>\n",
       "      <td>168.9</td>\n",
       "    </tr>\n",
       "    <tr>\n",
       "      <th>8</th>\n",
       "      <td>169</td>\n",
       "      <td>50</td>\n",
       "      <td>37.0</td>\n",
       "      <td>167.634146</td>\n",
       "      <td>168.9</td>\n",
       "    </tr>\n",
       "    <tr>\n",
       "      <th>9</th>\n",
       "      <td>163</td>\n",
       "      <td>74</td>\n",
       "      <td>37.0</td>\n",
       "      <td>167.634146</td>\n",
       "      <td>168.9</td>\n",
       "    </tr>\n",
       "  </tbody>\n",
       "</table>\n",
       "</div>"
      ],
      "text/plain": [
       "   Körpergröße  Gewicht  Schuhgröße  lin Regression   mean\n",
       "0          165       49        36.5      166.227642  168.9\n",
       "1          168       68        37.0      167.634146  168.9\n",
       "2          172       77        39.5      174.666667  168.9\n",
       "3          174       65        37.5      169.040650  168.9\n",
       "4          170       58        37.5      169.040650  168.9\n",
       "5          171       62        38.0      170.447154  168.9\n",
       "6          164       61        36.0      164.821138  168.9\n",
       "7          173       71        38.5      171.853659  168.9\n",
       "8          169       50        37.0      167.634146  168.9\n",
       "9          163       74        37.0      167.634146  168.9"
      ]
     },
     "execution_count": 48,
     "metadata": {},
     "output_type": "execute_result"
    }
   ],
   "source": [
    "data1"
   ]
  },
  {
   "cell_type": "code",
   "execution_count": 54,
   "id": "5d637ced",
   "metadata": {},
   "outputs": [],
   "source": [
    "# So, Coefficient of Determination is the portion that is distinct from mean at square residuals\n",
    "SQR = sum((data1['Körpergröße']-data1['lin Regression'])**2)\n",
    "TQS = sum((data1['Körpergröße']-data1['mean'])**2)"
   ]
  },
  {
   "cell_type": "code",
   "execution_count": 55,
   "id": "9daf997e",
   "metadata": {},
   "outputs": [
    {
     "data": {
      "text/plain": [
       "59.90243902439024"
      ]
     },
     "execution_count": 55,
     "metadata": {},
     "output_type": "execute_result"
    }
   ],
   "source": [
    "SQR"
   ]
  },
  {
   "cell_type": "code",
   "execution_count": 56,
   "id": "dd1b8aee",
   "metadata": {},
   "outputs": [
    {
     "data": {
      "text/plain": [
       "132.9"
      ]
     },
     "execution_count": 56,
     "metadata": {},
     "output_type": "execute_result"
    }
   ],
   "source": [
    "TQS"
   ]
  },
  {
   "cell_type": "code",
   "execution_count": 57,
   "id": "c0aff4d3",
   "metadata": {},
   "outputs": [
    {
     "data": {
      "text/plain": [
       "0.5492668244966874"
      ]
     },
     "execution_count": 57,
     "metadata": {},
     "output_type": "execute_result"
    }
   ],
   "source": [
    "1-SQR/TQS"
   ]
  },
  {
   "cell_type": "code",
   "execution_count": 59,
   "id": "2725c65a",
   "metadata": {},
   "outputs": [
    {
     "data": {
      "text/plain": [
       "0.5492668244966873"
      ]
     },
     "execution_count": 59,
     "metadata": {},
     "output_type": "execute_result"
    }
   ],
   "source": [
    "r_x_z_m_sq"
   ]
  },
  {
   "cell_type": "markdown",
   "id": "3c1a60bf",
   "metadata": {},
   "source": [
    "## RMSE / Root mean square error"
   ]
  },
  {
   "cell_type": "code",
   "execution_count": 60,
   "id": "0462e3b6",
   "metadata": {},
   "outputs": [
    {
     "data": {
      "text/html": [
       "<div>\n",
       "<style scoped>\n",
       "    .dataframe tbody tr th:only-of-type {\n",
       "        vertical-align: middle;\n",
       "    }\n",
       "\n",
       "    .dataframe tbody tr th {\n",
       "        vertical-align: top;\n",
       "    }\n",
       "\n",
       "    .dataframe thead th {\n",
       "        text-align: right;\n",
       "    }\n",
       "</style>\n",
       "<table border=\"1\" class=\"dataframe\">\n",
       "  <thead>\n",
       "    <tr style=\"text-align: right;\">\n",
       "      <th></th>\n",
       "      <th>Körpergröße</th>\n",
       "      <th>Gewicht</th>\n",
       "      <th>Schuhgröße</th>\n",
       "      <th>lin Regression</th>\n",
       "      <th>mean</th>\n",
       "    </tr>\n",
       "  </thead>\n",
       "  <tbody>\n",
       "    <tr>\n",
       "      <th>0</th>\n",
       "      <td>165</td>\n",
       "      <td>49</td>\n",
       "      <td>36.5</td>\n",
       "      <td>166.227642</td>\n",
       "      <td>168.9</td>\n",
       "    </tr>\n",
       "    <tr>\n",
       "      <th>1</th>\n",
       "      <td>168</td>\n",
       "      <td>68</td>\n",
       "      <td>37.0</td>\n",
       "      <td>167.634146</td>\n",
       "      <td>168.9</td>\n",
       "    </tr>\n",
       "    <tr>\n",
       "      <th>2</th>\n",
       "      <td>172</td>\n",
       "      <td>77</td>\n",
       "      <td>39.5</td>\n",
       "      <td>174.666667</td>\n",
       "      <td>168.9</td>\n",
       "    </tr>\n",
       "    <tr>\n",
       "      <th>3</th>\n",
       "      <td>174</td>\n",
       "      <td>65</td>\n",
       "      <td>37.5</td>\n",
       "      <td>169.040650</td>\n",
       "      <td>168.9</td>\n",
       "    </tr>\n",
       "    <tr>\n",
       "      <th>4</th>\n",
       "      <td>170</td>\n",
       "      <td>58</td>\n",
       "      <td>37.5</td>\n",
       "      <td>169.040650</td>\n",
       "      <td>168.9</td>\n",
       "    </tr>\n",
       "    <tr>\n",
       "      <th>5</th>\n",
       "      <td>171</td>\n",
       "      <td>62</td>\n",
       "      <td>38.0</td>\n",
       "      <td>170.447154</td>\n",
       "      <td>168.9</td>\n",
       "    </tr>\n",
       "    <tr>\n",
       "      <th>6</th>\n",
       "      <td>164</td>\n",
       "      <td>61</td>\n",
       "      <td>36.0</td>\n",
       "      <td>164.821138</td>\n",
       "      <td>168.9</td>\n",
       "    </tr>\n",
       "    <tr>\n",
       "      <th>7</th>\n",
       "      <td>173</td>\n",
       "      <td>71</td>\n",
       "      <td>38.5</td>\n",
       "      <td>171.853659</td>\n",
       "      <td>168.9</td>\n",
       "    </tr>\n",
       "    <tr>\n",
       "      <th>8</th>\n",
       "      <td>169</td>\n",
       "      <td>50</td>\n",
       "      <td>37.0</td>\n",
       "      <td>167.634146</td>\n",
       "      <td>168.9</td>\n",
       "    </tr>\n",
       "    <tr>\n",
       "      <th>9</th>\n",
       "      <td>163</td>\n",
       "      <td>74</td>\n",
       "      <td>37.0</td>\n",
       "      <td>167.634146</td>\n",
       "      <td>168.9</td>\n",
       "    </tr>\n",
       "  </tbody>\n",
       "</table>\n",
       "</div>"
      ],
      "text/plain": [
       "   Körpergröße  Gewicht  Schuhgröße  lin Regression   mean\n",
       "0          165       49        36.5      166.227642  168.9\n",
       "1          168       68        37.0      167.634146  168.9\n",
       "2          172       77        39.5      174.666667  168.9\n",
       "3          174       65        37.5      169.040650  168.9\n",
       "4          170       58        37.5      169.040650  168.9\n",
       "5          171       62        38.0      170.447154  168.9\n",
       "6          164       61        36.0      164.821138  168.9\n",
       "7          173       71        38.5      171.853659  168.9\n",
       "8          169       50        37.0      167.634146  168.9\n",
       "9          163       74        37.0      167.634146  168.9"
      ]
     },
     "execution_count": 60,
     "metadata": {},
     "output_type": "execute_result"
    }
   ],
   "source": [
    "data1"
   ]
  },
  {
   "cell_type": "code",
   "execution_count": 63,
   "id": "92428df8",
   "metadata": {},
   "outputs": [
    {
     "data": {
      "text/plain": [
       "2.447497477514333"
      ]
     },
     "execution_count": 63,
     "metadata": {},
     "output_type": "execute_result"
    }
   ],
   "source": [
    "# RMSE = sqrt(MSE) \n",
    "math.sqrt(st.mean((pd.array(data1['Körpergröße'])-pd.array(y(data1['Schuhgröße'])))**2))"
   ]
  },
  {
   "cell_type": "code",
   "execution_count": 70,
   "id": "480821f7",
   "metadata": {},
   "outputs": [],
   "source": [
    "# Tunnel [regression-RSME,regression+RSME] has 68% of data\n",
    "data1['upper_limit'] = data1['lin Regression'] + math.sqrt(st.mean((pd.array(data1['Körpergröße'])-pd.array(y(data1['Schuhgröße'])))**2))\n",
    "data1['lower_limit'] = data1['lin Regression'] - math.sqrt(st.mean((pd.array(data1['Körpergröße'])-pd.array(y(data1['Schuhgröße'])))**2))"
   ]
  },
  {
   "cell_type": "code",
   "execution_count": 71,
   "id": "c3287da6",
   "metadata": {},
   "outputs": [
    {
     "data": {
      "text/html": [
       "<div>\n",
       "<style scoped>\n",
       "    .dataframe tbody tr th:only-of-type {\n",
       "        vertical-align: middle;\n",
       "    }\n",
       "\n",
       "    .dataframe tbody tr th {\n",
       "        vertical-align: top;\n",
       "    }\n",
       "\n",
       "    .dataframe thead th {\n",
       "        text-align: right;\n",
       "    }\n",
       "</style>\n",
       "<table border=\"1\" class=\"dataframe\">\n",
       "  <thead>\n",
       "    <tr style=\"text-align: right;\">\n",
       "      <th></th>\n",
       "      <th>Körpergröße</th>\n",
       "      <th>Gewicht</th>\n",
       "      <th>Schuhgröße</th>\n",
       "      <th>lin Regression</th>\n",
       "      <th>mean</th>\n",
       "      <th>upper_limit</th>\n",
       "      <th>lower_limit</th>\n",
       "    </tr>\n",
       "  </thead>\n",
       "  <tbody>\n",
       "    <tr>\n",
       "      <th>0</th>\n",
       "      <td>165</td>\n",
       "      <td>49</td>\n",
       "      <td>36.5</td>\n",
       "      <td>166.227642</td>\n",
       "      <td>168.9</td>\n",
       "      <td>168.675140</td>\n",
       "      <td>163.780145</td>\n",
       "    </tr>\n",
       "    <tr>\n",
       "      <th>1</th>\n",
       "      <td>168</td>\n",
       "      <td>68</td>\n",
       "      <td>37.0</td>\n",
       "      <td>167.634146</td>\n",
       "      <td>168.9</td>\n",
       "      <td>170.081644</td>\n",
       "      <td>165.186649</td>\n",
       "    </tr>\n",
       "    <tr>\n",
       "      <th>2</th>\n",
       "      <td>172</td>\n",
       "      <td>77</td>\n",
       "      <td>39.5</td>\n",
       "      <td>174.666667</td>\n",
       "      <td>168.9</td>\n",
       "      <td>177.114164</td>\n",
       "      <td>172.219169</td>\n",
       "    </tr>\n",
       "    <tr>\n",
       "      <th>3</th>\n",
       "      <td>174</td>\n",
       "      <td>65</td>\n",
       "      <td>37.5</td>\n",
       "      <td>169.040650</td>\n",
       "      <td>168.9</td>\n",
       "      <td>171.488148</td>\n",
       "      <td>166.593153</td>\n",
       "    </tr>\n",
       "    <tr>\n",
       "      <th>4</th>\n",
       "      <td>170</td>\n",
       "      <td>58</td>\n",
       "      <td>37.5</td>\n",
       "      <td>169.040650</td>\n",
       "      <td>168.9</td>\n",
       "      <td>171.488148</td>\n",
       "      <td>166.593153</td>\n",
       "    </tr>\n",
       "  </tbody>\n",
       "</table>\n",
       "</div>"
      ],
      "text/plain": [
       "   Körpergröße  Gewicht  Schuhgröße  lin Regression   mean  upper_limit  \\\n",
       "0          165       49        36.5      166.227642  168.9   168.675140   \n",
       "1          168       68        37.0      167.634146  168.9   170.081644   \n",
       "2          172       77        39.5      174.666667  168.9   177.114164   \n",
       "3          174       65        37.5      169.040650  168.9   171.488148   \n",
       "4          170       58        37.5      169.040650  168.9   171.488148   \n",
       "\n",
       "   lower_limit  \n",
       "0   163.780145  \n",
       "1   165.186649  \n",
       "2   172.219169  \n",
       "3   166.593153  \n",
       "4   166.593153  "
      ]
     },
     "execution_count": 71,
     "metadata": {},
     "output_type": "execute_result"
    }
   ],
   "source": [
    "data1.head()"
   ]
  },
  {
   "cell_type": "code",
   "execution_count": 72,
   "id": "110d7698",
   "metadata": {},
   "outputs": [
    {
     "data": {
      "text/plain": [
       "<AxesSubplot: xlabel='Schuhgröße', ylabel='Körpergröße'>"
      ]
     },
     "execution_count": 72,
     "metadata": {},
     "output_type": "execute_result"
    },
    {
     "data": {
      "image/png": "[encoded data removed]",
      "text/plain": [
       "<Figure size 640x480 with 1 Axes>"
      ]
     },
     "metadata": {},
     "output_type": "display_data"
    }
   ],
   "source": [
    "sns.regplot(data = data1, x = 'Schuhgröße', y= 'Körpergröße')\n",
    "sns.lineplot(data = data1,x = 'Schuhgröße',y = 'lin Regression')\n",
    "sns.lineplot(data = data1,x = 'Schuhgröße',y = 'upper_limit')\n",
    "sns.lineplot(data = data1,x = 'Schuhgröße',y = 'lower_limit')"
   ]
  },
  {
   "cell_type": "code",
   "execution_count": null,
   "id": "14036450",
   "metadata": {},
   "outputs": [],
   "source": []
  }
 ],
 "metadata": {
  "kernelspec": {
   "display_name": "Python 3 (ipykernel)",
   "language": "python",
   "name": "python3"
  },
  "language_info": {
   "codemirror_mode": {
    "name": "ipython",
    "version": 3
   },
   "file_extension": ".py",
   "mimetype": "text/x-python",
   "name": "python",
   "nbconvert_exporter": "python",
   "pygments_lexer": "ipython3",
   "version": "3.9.15"
  }
 },
 "nbformat": 4,
 "nbformat_minor": 5
}
