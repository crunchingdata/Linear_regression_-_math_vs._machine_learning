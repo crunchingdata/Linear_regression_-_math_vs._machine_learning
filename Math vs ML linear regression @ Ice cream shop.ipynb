{
 "cells": [
  {
   "cell_type": "markdown",
   "id": "1461261b",
   "metadata": {},
   "source": [
    "# Import libraries"
   ]
  },
  {
   "cell_type": "code",
   "execution_count": 1,
   "id": "083a1338",
   "metadata": {},
   "outputs": [],
   "source": [
    "import pandas as pd\n",
    "import numpy as np\n",
    "import math\n",
    "import seaborn as sns\n",
    "import matplotlib.pyplot as plt\n",
    "import statistics as st\n",
    "%matplotlib inline"
   ]
  },
  {
   "cell_type": "markdown",
   "id": "2a1e0018",
   "metadata": {},
   "source": [
    "# Import of data"
   ]
  },
  {
   "cell_type": "code",
   "execution_count": 2,
   "id": "8025e7de",
   "metadata": {},
   "outputs": [
    {
     "data": {
      "text/html": [
       "<div>\n",
       "<style scoped>\n",
       "    .dataframe tbody tr th:only-of-type {\n",
       "        vertical-align: middle;\n",
       "    }\n",
       "\n",
       "    .dataframe tbody tr th {\n",
       "        vertical-align: top;\n",
       "    }\n",
       "\n",
       "    .dataframe thead th {\n",
       "        text-align: right;\n",
       "    }\n",
       "</style>\n",
       "<table border=\"1\" class=\"dataframe\">\n",
       "  <thead>\n",
       "    <tr style=\"text-align: right;\">\n",
       "      <th></th>\n",
       "      <th>Temperature</th>\n",
       "      <th>Revenue</th>\n",
       "    </tr>\n",
       "  </thead>\n",
       "  <tbody>\n",
       "    <tr>\n",
       "      <th>0</th>\n",
       "      <td>24.566884</td>\n",
       "      <td>534.799028</td>\n",
       "    </tr>\n",
       "    <tr>\n",
       "      <th>1</th>\n",
       "      <td>26.005191</td>\n",
       "      <td>625.190122</td>\n",
       "    </tr>\n",
       "    <tr>\n",
       "      <th>2</th>\n",
       "      <td>27.790554</td>\n",
       "      <td>660.632289</td>\n",
       "    </tr>\n",
       "    <tr>\n",
       "      <th>3</th>\n",
       "      <td>20.595335</td>\n",
       "      <td>487.706960</td>\n",
       "    </tr>\n",
       "    <tr>\n",
       "      <th>4</th>\n",
       "      <td>11.503498</td>\n",
       "      <td>316.240194</td>\n",
       "    </tr>\n",
       "  </tbody>\n",
       "</table>\n",
       "</div>"
      ],
      "text/plain": [
       "   Temperature     Revenue\n",
       "0    24.566884  534.799028\n",
       "1    26.005191  625.190122\n",
       "2    27.790554  660.632289\n",
       "3    20.595335  487.706960\n",
       "4    11.503498  316.240194"
      ]
     },
     "execution_count": 2,
     "metadata": {},
     "output_type": "execute_result"
    }
   ],
   "source": [
    "# import data with supposed relationship.\n",
    "# Here in example a relationship between temperature and revenue as an ice cream shop\n",
    "filename = 'IceCreamData.csv'\n",
    "my_csv_data = pd.read_csv(filename)\n",
    "my_csv_data.head()"
   ]
  },
  {
   "cell_type": "code",
   "execution_count": 3,
   "id": "c1c5ed93",
   "metadata": {},
   "outputs": [
    {
     "name": "stdout",
     "output_type": "stream",
     "text": [
      "500\n"
     ]
    }
   ],
   "source": [
    "# create a column with random values with non-relational data for control\n",
    "from random import random\n",
    "lst = []\n",
    "for i in range(my_csv_data.shape[0]):\n",
    "    lst.append(random())\n",
    "print(len(lst))"
   ]
  },
  {
   "cell_type": "code",
   "execution_count": 4,
   "id": "bfd25a1f",
   "metadata": {
    "scrolled": true
   },
   "outputs": [
    {
     "data": {
      "text/html": [
       "<div>\n",
       "<style scoped>\n",
       "    .dataframe tbody tr th:only-of-type {\n",
       "        vertical-align: middle;\n",
       "    }\n",
       "\n",
       "    .dataframe tbody tr th {\n",
       "        vertical-align: top;\n",
       "    }\n",
       "\n",
       "    .dataframe thead th {\n",
       "        text-align: right;\n",
       "    }\n",
       "</style>\n",
       "<table border=\"1\" class=\"dataframe\">\n",
       "  <thead>\n",
       "    <tr style=\"text-align: right;\">\n",
       "      <th></th>\n",
       "      <th>Temperature</th>\n",
       "      <th>Revenue</th>\n",
       "      <th>Random</th>\n",
       "    </tr>\n",
       "  </thead>\n",
       "  <tbody>\n",
       "    <tr>\n",
       "      <th>0</th>\n",
       "      <td>24.566884</td>\n",
       "      <td>534.799028</td>\n",
       "      <td>529.662767</td>\n",
       "    </tr>\n",
       "    <tr>\n",
       "      <th>1</th>\n",
       "      <td>26.005191</td>\n",
       "      <td>625.190122</td>\n",
       "      <td>737.742088</td>\n",
       "    </tr>\n",
       "    <tr>\n",
       "      <th>2</th>\n",
       "      <td>27.790554</td>\n",
       "      <td>660.632289</td>\n",
       "      <td>468.843987</td>\n",
       "    </tr>\n",
       "    <tr>\n",
       "      <th>3</th>\n",
       "      <td>20.595335</td>\n",
       "      <td>487.706960</td>\n",
       "      <td>153.527633</td>\n",
       "    </tr>\n",
       "    <tr>\n",
       "      <th>4</th>\n",
       "      <td>11.503498</td>\n",
       "      <td>316.240194</td>\n",
       "      <td>89.148097</td>\n",
       "    </tr>\n",
       "  </tbody>\n",
       "</table>\n",
       "</div>"
      ],
      "text/plain": [
       "   Temperature     Revenue      Random\n",
       "0    24.566884  534.799028  529.662767\n",
       "1    26.005191  625.190122  737.742088\n",
       "2    27.790554  660.632289  468.843987\n",
       "3    20.595335  487.706960  153.527633\n",
       "4    11.503498  316.240194   89.148097"
      ]
     },
     "execution_count": 4,
     "metadata": {},
     "output_type": "execute_result"
    }
   ],
   "source": [
    "my_csv_data['Random'] = lst*my_csv_data['Revenue']\n",
    "my_csv_data['Random'] = my_csv_data['Random']*2\n",
    "my_csv_data.head()"
   ]
  },
  {
   "cell_type": "code",
   "execution_count": 5,
   "id": "145303d3",
   "metadata": {
    "scrolled": true
   },
   "outputs": [
    {
     "data": {
      "text/html": [
       "<div>\n",
       "<style scoped>\n",
       "    .dataframe tbody tr th:only-of-type {\n",
       "        vertical-align: middle;\n",
       "    }\n",
       "\n",
       "    .dataframe tbody tr th {\n",
       "        vertical-align: top;\n",
       "    }\n",
       "\n",
       "    .dataframe thead th {\n",
       "        text-align: right;\n",
       "    }\n",
       "</style>\n",
       "<table border=\"1\" class=\"dataframe\">\n",
       "  <thead>\n",
       "    <tr style=\"text-align: right;\">\n",
       "      <th></th>\n",
       "      <th>Temperature</th>\n",
       "      <th>Revenue</th>\n",
       "      <th>Random</th>\n",
       "    </tr>\n",
       "  </thead>\n",
       "  <tbody>\n",
       "    <tr>\n",
       "      <th>count</th>\n",
       "      <td>500.000000</td>\n",
       "      <td>500.000000</td>\n",
       "      <td>500.000000</td>\n",
       "    </tr>\n",
       "    <tr>\n",
       "      <th>mean</th>\n",
       "      <td>22.232225</td>\n",
       "      <td>521.570777</td>\n",
       "      <td>493.572133</td>\n",
       "    </tr>\n",
       "    <tr>\n",
       "      <th>std</th>\n",
       "      <td>8.096388</td>\n",
       "      <td>175.404751</td>\n",
       "      <td>343.523215</td>\n",
       "    </tr>\n",
       "    <tr>\n",
       "      <th>min</th>\n",
       "      <td>0.000000</td>\n",
       "      <td>10.000000</td>\n",
       "      <td>0.830797</td>\n",
       "    </tr>\n",
       "    <tr>\n",
       "      <th>25%</th>\n",
       "      <td>17.122258</td>\n",
       "      <td>405.558681</td>\n",
       "      <td>203.320434</td>\n",
       "    </tr>\n",
       "    <tr>\n",
       "      <th>50%</th>\n",
       "      <td>22.392791</td>\n",
       "      <td>529.368565</td>\n",
       "      <td>417.592159</td>\n",
       "    </tr>\n",
       "    <tr>\n",
       "      <th>75%</th>\n",
       "      <td>27.740674</td>\n",
       "      <td>642.257922</td>\n",
       "      <td>712.730963</td>\n",
       "    </tr>\n",
       "    <tr>\n",
       "      <th>max</th>\n",
       "      <td>45.000000</td>\n",
       "      <td>1000.000000</td>\n",
       "      <td>1594.399710</td>\n",
       "    </tr>\n",
       "  </tbody>\n",
       "</table>\n",
       "</div>"
      ],
      "text/plain": [
       "       Temperature      Revenue       Random\n",
       "count   500.000000   500.000000   500.000000\n",
       "mean     22.232225   521.570777   493.572133\n",
       "std       8.096388   175.404751   343.523215\n",
       "min       0.000000    10.000000     0.830797\n",
       "25%      17.122258   405.558681   203.320434\n",
       "50%      22.392791   529.368565   417.592159\n",
       "75%      27.740674   642.257922   712.730963\n",
       "max      45.000000  1000.000000  1594.399710"
      ]
     },
     "execution_count": 5,
     "metadata": {},
     "output_type": "execute_result"
    }
   ],
   "source": [
    "# get some resume of main values of the data\n",
    "my_csv_data.describe()"
   ]
  },
  {
   "cell_type": "code",
   "execution_count": 6,
   "id": "c77c07b8",
   "metadata": {},
   "outputs": [
    {
     "name": "stdout",
     "output_type": "stream",
     "text": [
      "<class 'pandas.core.frame.DataFrame'>\n",
      "RangeIndex: 500 entries, 0 to 499\n",
      "Data columns (total 3 columns):\n",
      " #   Column       Non-Null Count  Dtype  \n",
      "---  ------       --------------  -----  \n",
      " 0   Temperature  500 non-null    float64\n",
      " 1   Revenue      500 non-null    float64\n",
      " 2   Random       500 non-null    float64\n",
      "dtypes: float64(3)\n",
      "memory usage: 11.8 KB\n"
     ]
    }
   ],
   "source": [
    "# get some insights of data quality\n",
    "my_csv_data.info()"
   ]
  },
  {
   "cell_type": "markdown",
   "id": "f7e523a0",
   "metadata": {},
   "source": [
    "# Visuals for correlation check"
   ]
  },
  {
   "cell_type": "code",
   "execution_count": 7,
   "id": "c0fff1e9",
   "metadata": {},
   "outputs": [
    {
     "data": {
      "image/png": "[encoded data removed]",
      "text/plain": [
       "<Figure size 600x600 with 3 Axes>"
      ]
     },
     "metadata": {},
     "output_type": "display_data"
    }
   ],
   "source": [
    "# for an overview check with the scatter plot, if there could be a relationship between temperature and revenue,\n",
    "# also get a bar chart of the distribution\n",
    "sns.jointplot(x ='Temperature',y='Revenue', data = my_csv_data, color ='gray')\n",
    "plt.savefig(\"scatterplot_with_Jointplot.jpg\")"
   ]
  },
  {
   "cell_type": "code",
   "execution_count": 8,
   "id": "937f7602",
   "metadata": {},
   "outputs": [
    {
     "data": {
      "image/png": "[encoded data removed]",
      "text/plain": [
       "<Figure size 750x750 with 12 Axes>"
      ]
     },
     "metadata": {},
     "output_type": "display_data"
    }
   ],
   "source": [
    "# Check all possible relations of the data as also with non-relational data\n",
    "fig1= sns.pairplot(my_csv_data)\n",
    "plt.savefig(\"scatterplot_with_pairplot.jpg\")"
   ]
  },
  {
   "cell_type": "code",
   "execution_count": 9,
   "id": "8fcb5dcb",
   "metadata": {},
   "outputs": [
    {
     "data": {
      "text/plain": [
       "<seaborn.axisgrid.FacetGrid at 0x228c792e620>"
      ]
     },
     "execution_count": 9,
     "metadata": {},
     "output_type": "execute_result"
    },
    {
     "data": {
      "image/png": "[encoded data removed]",
      "text/plain": [
       "<Figure size 500x500 with 1 Axes>"
      ]
     },
     "metadata": {},
     "output_type": "display_data"
    }
   ],
   "source": [
    "# setting a regression line with inbuild sns.implot\n",
    "# so, that's how the linear reggression laer should seem like\n",
    "sns.lmplot(x ='Temperature',y='Revenue', data = my_csv_data)"
   ]
  },
  {
   "cell_type": "markdown",
   "id": "3954c78d",
   "metadata": {},
   "source": [
    "# Pearson Correlation first relation proof"
   ]
  },
  {
   "cell_type": "code",
   "execution_count": 10,
   "id": "6d42b3ab",
   "metadata": {},
   "outputs": [],
   "source": [
    "# proof, that two columns have a correlation with pearson coefficient\n",
    "# np.corrcoef(x, y)\n",
    "x = np.array(my_csv_data['Temperature'])\n",
    "y = np.array(my_csv_data['Revenue'])"
   ]
  },
  {
   "cell_type": "code",
   "execution_count": 11,
   "id": "89d847bf",
   "metadata": {},
   "outputs": [
    {
     "data": {
      "text/plain": [
       "array([[1.       , 0.9898016],\n",
       "       [0.9898016, 1.       ]])"
      ]
     },
     "execution_count": 11,
     "metadata": {},
     "output_type": "execute_result"
    }
   ],
   "source": [
    "# testing np.corrcoef function to get pearson coeafficient as all combination between temperature and revenue\n",
    "r_x_y = np.corrcoef(x, y)\n",
    "r_x_y"
   ]
  },
  {
   "cell_type": "code",
   "execution_count": 12,
   "id": "358303cb",
   "metadata": {},
   "outputs": [
    {
     "data": {
      "text/html": [
       "<div>\n",
       "<style scoped>\n",
       "    .dataframe tbody tr th:only-of-type {\n",
       "        vertical-align: middle;\n",
       "    }\n",
       "\n",
       "    .dataframe tbody tr th {\n",
       "        vertical-align: top;\n",
       "    }\n",
       "\n",
       "    .dataframe thead th {\n",
       "        text-align: right;\n",
       "    }\n",
       "</style>\n",
       "<table border=\"1\" class=\"dataframe\">\n",
       "  <thead>\n",
       "    <tr style=\"text-align: right;\">\n",
       "      <th></th>\n",
       "      <th>Temperature</th>\n",
       "      <th>Revenue</th>\n",
       "      <th>Random</th>\n",
       "    </tr>\n",
       "  </thead>\n",
       "  <tbody>\n",
       "    <tr>\n",
       "      <th>Temperature</th>\n",
       "      <td>1.000000</td>\n",
       "      <td>0.989802</td>\n",
       "      <td>0.436763</td>\n",
       "    </tr>\n",
       "    <tr>\n",
       "      <th>Revenue</th>\n",
       "      <td>0.989802</td>\n",
       "      <td>1.000000</td>\n",
       "      <td>0.441312</td>\n",
       "    </tr>\n",
       "    <tr>\n",
       "      <th>Random</th>\n",
       "      <td>0.436763</td>\n",
       "      <td>0.441312</td>\n",
       "      <td>1.000000</td>\n",
       "    </tr>\n",
       "  </tbody>\n",
       "</table>\n",
       "</div>"
      ],
      "text/plain": [
       "             Temperature   Revenue    Random\n",
       "Temperature     1.000000  0.989802  0.436763\n",
       "Revenue         0.989802  1.000000  0.441312\n",
       "Random          0.436763  0.441312  1.000000"
      ]
     },
     "execution_count": 12,
     "metadata": {},
     "output_type": "execute_result"
    }
   ],
   "source": [
    "# testing the .corr() method for the same\n",
    "my_csv_data.corr()"
   ]
  },
  {
   "cell_type": "code",
   "execution_count": 13,
   "id": "0a51ad17",
   "metadata": {},
   "outputs": [
    {
     "data": {
      "text/plain": [
       "0.9898015963401795"
      ]
     },
     "execution_count": 13,
     "metadata": {},
     "output_type": "execute_result"
    }
   ],
   "source": [
    "# the math on pearson correlation coefficient\n",
    "n=len(x)\n",
    "r_x_y_m = (n*sum(x*y)-sum(x)*sum(y))/(math.sqrt(n*sum(x**2)-sum(x)**2)*math.sqrt(n*sum(y**2)-sum(y)**2))\n",
    "r_x_y_m"
   ]
  },
  {
   "cell_type": "markdown",
   "id": "4d93671c",
   "metadata": {},
   "source": [
    "# First way of linear regression with math"
   ]
  },
  {
   "cell_type": "code",
   "execution_count": 14,
   "id": "66a12dbd",
   "metadata": {},
   "outputs": [
    {
     "data": {
      "text/html": [
       "<div>\n",
       "<style scoped>\n",
       "    .dataframe tbody tr th:only-of-type {\n",
       "        vertical-align: middle;\n",
       "    }\n",
       "\n",
       "    .dataframe tbody tr th {\n",
       "        vertical-align: top;\n",
       "    }\n",
       "\n",
       "    .dataframe thead th {\n",
       "        text-align: right;\n",
       "    }\n",
       "</style>\n",
       "<table border=\"1\" class=\"dataframe\">\n",
       "  <thead>\n",
       "    <tr style=\"text-align: right;\">\n",
       "      <th></th>\n",
       "      <th>Temperature</th>\n",
       "      <th>Revenue</th>\n",
       "    </tr>\n",
       "  </thead>\n",
       "  <tbody>\n",
       "    <tr>\n",
       "      <th>0</th>\n",
       "      <td>24.566884</td>\n",
       "      <td>534.799028</td>\n",
       "    </tr>\n",
       "    <tr>\n",
       "      <th>1</th>\n",
       "      <td>26.005191</td>\n",
       "      <td>625.190122</td>\n",
       "    </tr>\n",
       "    <tr>\n",
       "      <th>2</th>\n",
       "      <td>27.790554</td>\n",
       "      <td>660.632289</td>\n",
       "    </tr>\n",
       "    <tr>\n",
       "      <th>3</th>\n",
       "      <td>20.595335</td>\n",
       "      <td>487.706960</td>\n",
       "    </tr>\n",
       "    <tr>\n",
       "      <th>4</th>\n",
       "      <td>11.503498</td>\n",
       "      <td>316.240194</td>\n",
       "    </tr>\n",
       "  </tbody>\n",
       "</table>\n",
       "</div>"
      ],
      "text/plain": [
       "   Temperature     Revenue\n",
       "0    24.566884  534.799028\n",
       "1    26.005191  625.190122\n",
       "2    27.790554  660.632289\n",
       "3    20.595335  487.706960\n",
       "4    11.503498  316.240194"
      ]
     },
     "execution_count": 14,
     "metadata": {},
     "output_type": "execute_result"
    }
   ],
   "source": [
    "# first dataset: Temperature and Revenue\n",
    "first_dataset = pd.DataFrame([my_csv_data['Temperature'],my_csv_data['Revenue']]).T\n",
    "first_dataset.head()"
   ]
  },
  {
   "cell_type": "code",
   "execution_count": 15,
   "id": "44c34053",
   "metadata": {},
   "outputs": [],
   "source": [
    "# Define the function for the line of linear regression, x~independent Variable, y~dependent variable\n",
    "def lin_reg(x,y):\n",
    "    m=(n*sum(x*y)-sum(x)*sum(y))/(n*sum(x**2)-sum(x)**2)\n",
    "    b = (sum(y)-m*sum(x))/n\n",
    "    z = pd.DataFrame([x,m*x+b]).T\n",
    "    z.columns = [z.columns[0],'Prognostic']\n",
    "    return z"
   ]
  },
  {
   "cell_type": "code",
   "execution_count": 16,
   "id": "c62e577f",
   "metadata": {},
   "outputs": [
    {
     "data": {
      "text/html": [
       "<div>\n",
       "<style scoped>\n",
       "    .dataframe tbody tr th:only-of-type {\n",
       "        vertical-align: middle;\n",
       "    }\n",
       "\n",
       "    .dataframe tbody tr th {\n",
       "        vertical-align: top;\n",
       "    }\n",
       "\n",
       "    .dataframe thead th {\n",
       "        text-align: right;\n",
       "    }\n",
       "</style>\n",
       "<table border=\"1\" class=\"dataframe\">\n",
       "  <thead>\n",
       "    <tr style=\"text-align: right;\">\n",
       "      <th></th>\n",
       "      <th>Temperature</th>\n",
       "      <th>Prognostic</th>\n",
       "    </tr>\n",
       "  </thead>\n",
       "  <tbody>\n",
       "    <tr>\n",
       "      <th>0</th>\n",
       "      <td>24.566884</td>\n",
       "      <td>571.634337</td>\n",
       "    </tr>\n",
       "    <tr>\n",
       "      <th>1</th>\n",
       "      <td>26.005191</td>\n",
       "      <td>602.476847</td>\n",
       "    </tr>\n",
       "    <tr>\n",
       "      <th>2</th>\n",
       "      <td>27.790554</td>\n",
       "      <td>640.761497</td>\n",
       "    </tr>\n",
       "    <tr>\n",
       "      <th>3</th>\n",
       "      <td>20.595335</td>\n",
       "      <td>486.469919</td>\n",
       "    </tr>\n",
       "    <tr>\n",
       "      <th>4</th>\n",
       "      <td>11.503498</td>\n",
       "      <td>291.507963</td>\n",
       "    </tr>\n",
       "  </tbody>\n",
       "</table>\n",
       "</div>"
      ],
      "text/plain": [
       "   Temperature  Prognostic\n",
       "0    24.566884  571.634337\n",
       "1    26.005191  602.476847\n",
       "2    27.790554  640.761497\n",
       "3    20.595335  486.469919\n",
       "4    11.503498  291.507963"
      ]
     },
     "execution_count": 16,
     "metadata": {},
     "output_type": "execute_result"
    }
   ],
   "source": [
    "# how do the values of the regression line look like\n",
    "lin_reg(my_csv_data['Temperature'],my_csv_data['Revenue']).head()"
   ]
  },
  {
   "cell_type": "code",
   "execution_count": 17,
   "id": "e9ea4c8f",
   "metadata": {},
   "outputs": [
    {
     "data": {
      "image/png": "[encoded data removed]",
      "text/plain": [
       "<Figure size 640x480 with 1 Axes>"
      ]
     },
     "metadata": {},
     "output_type": "display_data"
    }
   ],
   "source": [
    "# does the function lin_reg(x,y) work?\n",
    "sns.regplot(data = first_dataset, x = 'Temperature', y= 'Revenue')\n",
    "sns.lineplot(data = lin_reg(my_csv_data['Temperature'],my_csv_data['Revenue']),x = 'Temperature',y ='Prognostic')\n",
    "plt.title('scatterplot math')\n",
    "plt.savefig(\"scatterplot_with_math_linear_regression.jpg\")"
   ]
  },
  {
   "cell_type": "code",
   "execution_count": 18,
   "id": "f9e135d3",
   "metadata": {},
   "outputs": [],
   "source": [
    "# Function of linear regression to get m and b for y = m*x +b\n",
    "def lin_reg_m_b(x,y):\n",
    "    m=(n*sum(x*y)-sum(x)*sum(y))/(n*sum(x**2)-sum(x)**2)\n",
    "    b = (sum(y)-m*sum(x))/n\n",
    "    return [m,b]"
   ]
  },
  {
   "cell_type": "code",
   "execution_count": 19,
   "id": "b295a6ad",
   "metadata": {},
   "outputs": [],
   "source": [
    "# Prognostic function\n",
    "m = lin_reg_m_b(x,y)[0]\n",
    "b = lin_reg_m_b(x,y)[1]\n",
    "def lin_reg_prog(x):\n",
    "    return m*x+b"
   ]
  },
  {
   "cell_type": "code",
   "execution_count": 20,
   "id": "20bc526a",
   "metadata": {},
   "outputs": [
    {
     "data": {
      "text/plain": [
       "924.0199130284545"
      ]
     },
     "execution_count": 20,
     "metadata": {},
     "output_type": "execute_result"
    }
   ],
   "source": [
    "# temperatur 41°C should lead to a revenue of ...\n",
    "lin_reg_prog(41)"
   ]
  },
  {
   "cell_type": "markdown",
   "id": "8787691f",
   "metadata": {},
   "source": [
    "# Who good are our prognostic's with regression ?"
   ]
  },
  {
   "cell_type": "code",
   "execution_count": 21,
   "id": "1b688870",
   "metadata": {},
   "outputs": [],
   "source": [
    "# define clear the function for the regression line\n",
    "def reg_line_ice(x):\n",
    "    [m,b]=lin_reg_m_b(my_csv_data['Temperature'],my_csv_data['Revenue'])\n",
    "    return m*x+b"
   ]
  },
  {
   "cell_type": "code",
   "execution_count": 22,
   "id": "9a080cb7",
   "metadata": {},
   "outputs": [],
   "source": [
    "# define clear the function for the regression line for the random values\n",
    "def reg_line_ice_control(x):\n",
    "    [m,b]=lin_reg_m_b(my_csv_data['Temperature'],my_csv_data['Random'])\n",
    "    return m*x+b"
   ]
  },
  {
   "cell_type": "markdown",
   "id": "6199a92a",
   "metadata": {},
   "source": [
    "## residual / Residuen"
   ]
  },
  {
   "cell_type": "code",
   "execution_count": 23,
   "id": "599771d1",
   "metadata": {},
   "outputs": [
    {
     "data": {
      "text/plain": [
       "Temperature      8.755554\n",
       "Revenue        242.236208\n",
       "Random         382.482329\n",
       "Name: 41, dtype: float64"
      ]
     },
     "execution_count": 23,
     "metadata": {},
     "output_type": "execute_result"
    }
   ],
   "source": [
    "# exemple 41°C\n",
    "my_csv_data.loc[41,:]"
   ]
  },
  {
   "cell_type": "code",
   "execution_count": 24,
   "id": "54f2de3b",
   "metadata": {},
   "outputs": [
    {
     "data": {
      "text/plain": [
       "9.65412142440357"
      ]
     },
     "execution_count": 24,
     "metadata": {},
     "output_type": "execute_result"
    }
   ],
   "source": [
    "# one residual e_i is the difference between the given data and prognostic\n",
    "e_1 = my_csv_data.loc[41,:]['Revenue']-reg_line_ice(my_csv_data.loc[41,:]['Temperature'])\n",
    "e_1"
   ]
  },
  {
   "cell_type": "code",
   "execution_count": 25,
   "id": "b7ede09e",
   "metadata": {},
   "outputs": [
    {
     "data": {
      "text/plain": [
       "0.0"
      ]
     },
     "execution_count": 25,
     "metadata": {},
     "output_type": "execute_result"
    }
   ],
   "source": [
    "# the sum of residuals is 0 because of the definition of regression line\n",
    "round(sum(pd.array(my_csv_data['Revenue'])-pd.array(reg_line_ice(my_csv_data['Temperature']))),9)\n",
    "# here because of rounding floats because of limited bits, this is inaccurate beginning by decimal number 10"
   ]
  },
  {
   "cell_type": "markdown",
   "id": "f1259a50",
   "metadata": {},
   "source": [
    "## MSE / Mean squared error / mittlerer quadratischer Fehler"
   ]
  },
  {
   "cell_type": "code",
   "execution_count": 26,
   "id": "c85a7fa7",
   "metadata": {},
   "outputs": [
    {
     "data": {
      "text/plain": [
       "93.20206047712801"
      ]
     },
     "execution_count": 26,
     "metadata": {},
     "output_type": "execute_result"
    }
   ],
   "source": [
    "# square residual, meaning: \n",
    "# desviance is shown heavy through square - so big residuals get bigger square results,\n",
    "# but less relation for calculating or getting a sense of the desviance of one datapoint\n",
    "e_1 = (my_csv_data.loc[41,:]['Revenue']-reg_line_ice(my_csv_data.loc[41,:]['Temperature']))**2\n",
    "e_1"
   ]
  },
  {
   "cell_type": "code",
   "execution_count": 27,
   "id": "3a69c610",
   "metadata": {},
   "outputs": [
    {
     "data": {
      "text/plain": [
       "623.0963653020005"
      ]
     },
     "execution_count": 27,
     "metadata": {},
     "output_type": "execute_result"
    }
   ],
   "source": [
    "# MSE is just the mean over the square residuals:\n",
    "round(st.mean((pd.array(my_csv_data['Revenue'])-pd.array(reg_line_ice(my_csv_data['Temperature'])))**2),14)\n",
    "# MSE is more sensitive to outliers"
   ]
  },
  {
   "cell_type": "code",
   "execution_count": 28,
   "id": "b93a4f31",
   "metadata": {},
   "outputs": [
    {
     "data": {
      "text/plain": [
       "95305.69210898876"
      ]
     },
     "execution_count": 28,
     "metadata": {},
     "output_type": "execute_result"
    }
   ],
   "source": [
    "# comparing MSE of the data with the MSE of the non-relational data\n",
    "round(st.mean((pd.array(my_csv_data['Random'])-pd.array(reg_line_ice_control(my_csv_data['Temperature'])))**2),14)"
   ]
  },
  {
   "cell_type": "markdown",
   "id": "445c6188",
   "metadata": {},
   "source": [
    "## MAE / mean absolut error / mittlere absolute Fehler"
   ]
  },
  {
   "cell_type": "code",
   "execution_count": 29,
   "id": "98342590",
   "metadata": {},
   "outputs": [
    {
     "data": {
      "text/plain": [
       "9.65412142440357"
      ]
     },
     "execution_count": 29,
     "metadata": {},
     "output_type": "execute_result"
    }
   ],
   "source": [
    "# absolute residual, meaning:\n",
    "# less sensitive for big residuals, but meaningfull for one data as the normal desviance between regression line and data\n",
    "e_1 = abs(my_csv_data.loc[41,:]['Revenue']-reg_line_ice(my_csv_data.loc[41,:]['Temperature']))\n",
    "e_1"
   ]
  },
  {
   "cell_type": "code",
   "execution_count": 30,
   "id": "3911ca21",
   "metadata": {},
   "outputs": [
    {
     "data": {
      "text/plain": [
       "19.5858612062001"
      ]
     },
     "execution_count": 30,
     "metadata": {},
     "output_type": "execute_result"
    }
   ],
   "source": [
    "# MSA is just the mean over the absolute residual:\n",
    "# data values differ in about this value at mean from linear regression\n",
    "round(st.mean(abs(pd.array(my_csv_data['Revenue'])-pd.array(reg_line_ice(my_csv_data['Temperature'])))),14)"
   ]
  },
  {
   "cell_type": "code",
   "execution_count": 31,
   "id": "ff2d05ff",
   "metadata": {},
   "outputs": [
    {
     "data": {
      "text/plain": [
       "252.7563677164059"
      ]
     },
     "execution_count": 31,
     "metadata": {},
     "output_type": "execute_result"
    }
   ],
   "source": [
    "# comparing MSA of the data with the MSA of the non-relational data\n",
    "round(st.mean(abs(pd.array(my_csv_data['Random'])-pd.array(reg_line_ice_control(my_csv_data['Temperature'])))),14)"
   ]
  },
  {
   "cell_type": "markdown",
   "id": "99d063f8",
   "metadata": {},
   "source": [
    "## Coefficient of Determination"
   ]
  },
  {
   "cell_type": "code",
   "execution_count": 32,
   "id": "db3919d3",
   "metadata": {},
   "outputs": [
    {
     "data": {
      "text/html": [
       "<div>\n",
       "<style scoped>\n",
       "    .dataframe tbody tr th:only-of-type {\n",
       "        vertical-align: middle;\n",
       "    }\n",
       "\n",
       "    .dataframe tbody tr th {\n",
       "        vertical-align: top;\n",
       "    }\n",
       "\n",
       "    .dataframe thead th {\n",
       "        text-align: right;\n",
       "    }\n",
       "</style>\n",
       "<table border=\"1\" class=\"dataframe\">\n",
       "  <thead>\n",
       "    <tr style=\"text-align: right;\">\n",
       "      <th></th>\n",
       "      <th>Temperature</th>\n",
       "      <th>Revenue</th>\n",
       "      <th>Random</th>\n",
       "    </tr>\n",
       "  </thead>\n",
       "  <tbody>\n",
       "    <tr>\n",
       "      <th>Temperature</th>\n",
       "      <td>1.000000</td>\n",
       "      <td>0.989802</td>\n",
       "      <td>0.436763</td>\n",
       "    </tr>\n",
       "    <tr>\n",
       "      <th>Revenue</th>\n",
       "      <td>0.989802</td>\n",
       "      <td>1.000000</td>\n",
       "      <td>0.441312</td>\n",
       "    </tr>\n",
       "    <tr>\n",
       "      <th>Random</th>\n",
       "      <td>0.436763</td>\n",
       "      <td>0.441312</td>\n",
       "      <td>1.000000</td>\n",
       "    </tr>\n",
       "  </tbody>\n",
       "</table>\n",
       "</div>"
      ],
      "text/plain": [
       "             Temperature   Revenue    Random\n",
       "Temperature     1.000000  0.989802  0.436763\n",
       "Revenue         0.989802  1.000000  0.441312\n",
       "Random          0.436763  0.441312  1.000000"
      ]
     },
     "execution_count": 32,
     "metadata": {},
     "output_type": "execute_result"
    }
   ],
   "source": [
    "# coefficient of determination has a relation to the pearson coefficient by simple models\n",
    "r = my_csv_data.corr()\n",
    "r"
   ]
  },
  {
   "cell_type": "code",
   "execution_count": 33,
   "id": "cb44a1b0",
   "metadata": {},
   "outputs": [
    {
     "data": {
      "text/html": [
       "<div>\n",
       "<style scoped>\n",
       "    .dataframe tbody tr th:only-of-type {\n",
       "        vertical-align: middle;\n",
       "    }\n",
       "\n",
       "    .dataframe tbody tr th {\n",
       "        vertical-align: top;\n",
       "    }\n",
       "\n",
       "    .dataframe thead th {\n",
       "        text-align: right;\n",
       "    }\n",
       "</style>\n",
       "<table border=\"1\" class=\"dataframe\">\n",
       "  <thead>\n",
       "    <tr style=\"text-align: right;\">\n",
       "      <th></th>\n",
       "      <th>Temperature</th>\n",
       "      <th>Revenue</th>\n",
       "      <th>Random</th>\n",
       "    </tr>\n",
       "  </thead>\n",
       "  <tbody>\n",
       "    <tr>\n",
       "      <th>Temperature</th>\n",
       "      <td>1.000000</td>\n",
       "      <td>0.979707</td>\n",
       "      <td>0.190762</td>\n",
       "    </tr>\n",
       "    <tr>\n",
       "      <th>Revenue</th>\n",
       "      <td>0.979707</td>\n",
       "      <td>1.000000</td>\n",
       "      <td>0.194757</td>\n",
       "    </tr>\n",
       "    <tr>\n",
       "      <th>Random</th>\n",
       "      <td>0.190762</td>\n",
       "      <td>0.194757</td>\n",
       "      <td>1.000000</td>\n",
       "    </tr>\n",
       "  </tbody>\n",
       "</table>\n",
       "</div>"
      ],
      "text/plain": [
       "             Temperature   Revenue    Random\n",
       "Temperature     1.000000  0.979707  0.190762\n",
       "Revenue         0.979707  1.000000  0.194757\n",
       "Random          0.190762  0.194757  1.000000"
      ]
     },
     "execution_count": 33,
     "metadata": {},
     "output_type": "execute_result"
    }
   ],
   "source": [
    "# for simple models like linear regression the coefficient of determination is the square pearson-coefficient\n",
    "r_sq = r**2\n",
    "r_sq"
   ]
  },
  {
   "cell_type": "code",
   "execution_count": 34,
   "id": "8999dd07",
   "metadata": {},
   "outputs": [],
   "source": [
    "# making a copy of the data for merging mean and linear regression to the table and later getting back to original data\n",
    "data1 = my_csv_data.copy()"
   ]
  },
  {
   "cell_type": "markdown",
   "id": "58896237",
   "metadata": {},
   "source": [
    "## Calculating the coefficient of determination with math"
   ]
  },
  {
   "cell_type": "code",
   "execution_count": 35,
   "id": "d5bf470a",
   "metadata": {},
   "outputs": [
    {
     "data": {
      "text/html": [
       "<div>\n",
       "<style scoped>\n",
       "    .dataframe tbody tr th:only-of-type {\n",
       "        vertical-align: middle;\n",
       "    }\n",
       "\n",
       "    .dataframe tbody tr th {\n",
       "        vertical-align: top;\n",
       "    }\n",
       "\n",
       "    .dataframe thead th {\n",
       "        text-align: right;\n",
       "    }\n",
       "</style>\n",
       "<table border=\"1\" class=\"dataframe\">\n",
       "  <thead>\n",
       "    <tr style=\"text-align: right;\">\n",
       "      <th></th>\n",
       "      <th>Temperature</th>\n",
       "      <th>Revenue</th>\n",
       "      <th>Random</th>\n",
       "      <th>lin Regression</th>\n",
       "      <th>mean</th>\n",
       "    </tr>\n",
       "  </thead>\n",
       "  <tbody>\n",
       "    <tr>\n",
       "      <th>0</th>\n",
       "      <td>24.566884</td>\n",
       "      <td>534.799028</td>\n",
       "      <td>529.662767</td>\n",
       "      <td>571.634337</td>\n",
       "      <td>521.570777</td>\n",
       "    </tr>\n",
       "    <tr>\n",
       "      <th>1</th>\n",
       "      <td>26.005191</td>\n",
       "      <td>625.190122</td>\n",
       "      <td>737.742088</td>\n",
       "      <td>602.476847</td>\n",
       "      <td>521.570777</td>\n",
       "    </tr>\n",
       "    <tr>\n",
       "      <th>2</th>\n",
       "      <td>27.790554</td>\n",
       "      <td>660.632289</td>\n",
       "      <td>468.843987</td>\n",
       "      <td>640.761497</td>\n",
       "      <td>521.570777</td>\n",
       "    </tr>\n",
       "    <tr>\n",
       "      <th>3</th>\n",
       "      <td>20.595335</td>\n",
       "      <td>487.706960</td>\n",
       "      <td>153.527633</td>\n",
       "      <td>486.469919</td>\n",
       "      <td>521.570777</td>\n",
       "    </tr>\n",
       "    <tr>\n",
       "      <th>4</th>\n",
       "      <td>11.503498</td>\n",
       "      <td>316.240194</td>\n",
       "      <td>89.148097</td>\n",
       "      <td>291.507963</td>\n",
       "      <td>521.570777</td>\n",
       "    </tr>\n",
       "  </tbody>\n",
       "</table>\n",
       "</div>"
      ],
      "text/plain": [
       "   Temperature     Revenue      Random  lin Regression        mean\n",
       "0    24.566884  534.799028  529.662767      571.634337  521.570777\n",
       "1    26.005191  625.190122  737.742088      602.476847  521.570777\n",
       "2    27.790554  660.632289  468.843987      640.761497  521.570777\n",
       "3    20.595335  487.706960  153.527633      486.469919  521.570777\n",
       "4    11.503498  316.240194   89.148097      291.507963  521.570777"
      ]
     },
     "execution_count": 35,
     "metadata": {},
     "output_type": "execute_result"
    }
   ],
   "source": [
    "# first step of calculating the coefficient of determination: merging mean and linear regression to the table\n",
    "data1['lin Regression'] = reg_line_ice(data1['Temperature'])\n",
    "data1['mean'] = data1['Revenue'].mean()\n",
    "data1.head()"
   ]
  },
  {
   "cell_type": "code",
   "execution_count": 36,
   "id": "5d637ced",
   "metadata": {},
   "outputs": [],
   "source": [
    "# So, the coefficient of determination is the portion that is distinct from mean at square residuals\n",
    "# SQR: Sum of square residuals\n",
    "SQR = sum((data1['Revenue']-data1['lin Regression'])**2)\n",
    "# TQS: Total sum of square of difference between the data and the the mean\n",
    "TQS = sum((data1['Revenue']-data1['mean'])**2)"
   ]
  },
  {
   "cell_type": "code",
   "execution_count": 37,
   "id": "9daf997e",
   "metadata": {},
   "outputs": [
    {
     "data": {
      "text/plain": [
       "311548.1826510003"
      ]
     },
     "execution_count": 37,
     "metadata": {},
     "output_type": "execute_result"
    }
   ],
   "source": [
    "SQR"
   ]
  },
  {
   "cell_type": "code",
   "execution_count": 38,
   "id": "dd1b8aee",
   "metadata": {},
   "outputs": [
    {
     "data": {
      "text/plain": [
       "15352646.478365654"
      ]
     },
     "execution_count": 38,
     "metadata": {},
     "output_type": "execute_result"
    }
   ],
   "source": [
    "TQS"
   ]
  },
  {
   "cell_type": "code",
   "execution_count": 39,
   "id": "c0aff4d3",
   "metadata": {},
   "outputs": [
    {
     "data": {
      "text/plain": [
       "0.979707200117581"
      ]
     },
     "execution_count": 39,
     "metadata": {},
     "output_type": "execute_result"
    }
   ],
   "source": [
    "# last step of calculating the coefficient of determination \n",
    "1-SQR/TQS"
   ]
  },
  {
   "cell_type": "code",
   "execution_count": 40,
   "id": "2725c65a",
   "metadata": {},
   "outputs": [
    {
     "data": {
      "text/html": [
       "<div>\n",
       "<style scoped>\n",
       "    .dataframe tbody tr th:only-of-type {\n",
       "        vertical-align: middle;\n",
       "    }\n",
       "\n",
       "    .dataframe tbody tr th {\n",
       "        vertical-align: top;\n",
       "    }\n",
       "\n",
       "    .dataframe thead th {\n",
       "        text-align: right;\n",
       "    }\n",
       "</style>\n",
       "<table border=\"1\" class=\"dataframe\">\n",
       "  <thead>\n",
       "    <tr style=\"text-align: right;\">\n",
       "      <th></th>\n",
       "      <th>Temperature</th>\n",
       "      <th>Revenue</th>\n",
       "      <th>Random</th>\n",
       "    </tr>\n",
       "  </thead>\n",
       "  <tbody>\n",
       "    <tr>\n",
       "      <th>Temperature</th>\n",
       "      <td>1.000000</td>\n",
       "      <td>0.979707</td>\n",
       "      <td>0.190762</td>\n",
       "    </tr>\n",
       "    <tr>\n",
       "      <th>Revenue</th>\n",
       "      <td>0.979707</td>\n",
       "      <td>1.000000</td>\n",
       "      <td>0.194757</td>\n",
       "    </tr>\n",
       "    <tr>\n",
       "      <th>Random</th>\n",
       "      <td>0.190762</td>\n",
       "      <td>0.194757</td>\n",
       "      <td>1.000000</td>\n",
       "    </tr>\n",
       "  </tbody>\n",
       "</table>\n",
       "</div>"
      ],
      "text/plain": [
       "             Temperature   Revenue    Random\n",
       "Temperature     1.000000  0.979707  0.190762\n",
       "Revenue         0.979707  1.000000  0.194757\n",
       "Random          0.190762  0.194757  1.000000"
      ]
     },
     "execution_count": 40,
     "metadata": {},
     "output_type": "execute_result"
    }
   ],
   "source": [
    "# comparing the real calculation of the coefficient of determination with with the square pearson coefficient\n",
    "r_sq"
   ]
  },
  {
   "cell_type": "markdown",
   "id": "3c1a60bf",
   "metadata": {},
   "source": [
    "## RMSE / Root mean square error"
   ]
  },
  {
   "cell_type": "code",
   "execution_count": 41,
   "id": "92428df8",
   "metadata": {},
   "outputs": [
    {
     "data": {
      "text/plain": [
       "24.961898271205268"
      ]
     },
     "execution_count": 41,
     "metadata": {},
     "output_type": "execute_result"
    }
   ],
   "source": [
    "# RMSE = sqrt(MSE) \n",
    "math.sqrt(st.mean((pd.array(data1['Revenue'])-pd.array(reg_line_ice(data1['Temperature'])))**2))"
   ]
  },
  {
   "cell_type": "markdown",
   "id": "10223e38",
   "metadata": {},
   "source": [
    "## Getting 68% of data in a visual (95% and 99,7% also possible)"
   ]
  },
  {
   "cell_type": "code",
   "execution_count": 42,
   "id": "480821f7",
   "metadata": {},
   "outputs": [],
   "source": [
    "# Tunnel [regression-RSME,regression+RSME] has 68% of data (95% in 2 times and 99,7% by 3 times following calculation)\n",
    "data1['upper_limit'] = data1['lin Regression'] + math.sqrt(st.mean((pd.array(data1['Revenue'])-pd.array(reg_line_ice(data1['Temperature'])))**2))\n",
    "data1['lower_limit'] = data1['lin Regression'] - math.sqrt(st.mean((pd.array(data1['Revenue'])-pd.array(reg_line_ice(data1['Temperature'])))**2))"
   ]
  },
  {
   "cell_type": "code",
   "execution_count": 43,
   "id": "c3287da6",
   "metadata": {},
   "outputs": [
    {
     "data": {
      "text/html": [
       "<div>\n",
       "<style scoped>\n",
       "    .dataframe tbody tr th:only-of-type {\n",
       "        vertical-align: middle;\n",
       "    }\n",
       "\n",
       "    .dataframe tbody tr th {\n",
       "        vertical-align: top;\n",
       "    }\n",
       "\n",
       "    .dataframe thead th {\n",
       "        text-align: right;\n",
       "    }\n",
       "</style>\n",
       "<table border=\"1\" class=\"dataframe\">\n",
       "  <thead>\n",
       "    <tr style=\"text-align: right;\">\n",
       "      <th></th>\n",
       "      <th>Temperature</th>\n",
       "      <th>Revenue</th>\n",
       "      <th>Random</th>\n",
       "      <th>lin Regression</th>\n",
       "      <th>mean</th>\n",
       "      <th>upper_limit</th>\n",
       "      <th>lower_limit</th>\n",
       "    </tr>\n",
       "  </thead>\n",
       "  <tbody>\n",
       "    <tr>\n",
       "      <th>0</th>\n",
       "      <td>24.566884</td>\n",
       "      <td>534.799028</td>\n",
       "      <td>529.662767</td>\n",
       "      <td>571.634337</td>\n",
       "      <td>521.570777</td>\n",
       "      <td>596.596235</td>\n",
       "      <td>546.672438</td>\n",
       "    </tr>\n",
       "    <tr>\n",
       "      <th>1</th>\n",
       "      <td>26.005191</td>\n",
       "      <td>625.190122</td>\n",
       "      <td>737.742088</td>\n",
       "      <td>602.476847</td>\n",
       "      <td>521.570777</td>\n",
       "      <td>627.438746</td>\n",
       "      <td>577.514949</td>\n",
       "    </tr>\n",
       "    <tr>\n",
       "      <th>2</th>\n",
       "      <td>27.790554</td>\n",
       "      <td>660.632289</td>\n",
       "      <td>468.843987</td>\n",
       "      <td>640.761497</td>\n",
       "      <td>521.570777</td>\n",
       "      <td>665.723395</td>\n",
       "      <td>615.799599</td>\n",
       "    </tr>\n",
       "    <tr>\n",
       "      <th>3</th>\n",
       "      <td>20.595335</td>\n",
       "      <td>487.706960</td>\n",
       "      <td>153.527633</td>\n",
       "      <td>486.469919</td>\n",
       "      <td>521.570777</td>\n",
       "      <td>511.431817</td>\n",
       "      <td>461.508021</td>\n",
       "    </tr>\n",
       "    <tr>\n",
       "      <th>4</th>\n",
       "      <td>11.503498</td>\n",
       "      <td>316.240194</td>\n",
       "      <td>89.148097</td>\n",
       "      <td>291.507963</td>\n",
       "      <td>521.570777</td>\n",
       "      <td>316.469861</td>\n",
       "      <td>266.546064</td>\n",
       "    </tr>\n",
       "  </tbody>\n",
       "</table>\n",
       "</div>"
      ],
      "text/plain": [
       "   Temperature     Revenue      Random  lin Regression        mean  \\\n",
       "0    24.566884  534.799028  529.662767      571.634337  521.570777   \n",
       "1    26.005191  625.190122  737.742088      602.476847  521.570777   \n",
       "2    27.790554  660.632289  468.843987      640.761497  521.570777   \n",
       "3    20.595335  487.706960  153.527633      486.469919  521.570777   \n",
       "4    11.503498  316.240194   89.148097      291.507963  521.570777   \n",
       "\n",
       "   upper_limit  lower_limit  \n",
       "0   596.596235   546.672438  \n",
       "1   627.438746   577.514949  \n",
       "2   665.723395   615.799599  \n",
       "3   511.431817   461.508021  \n",
       "4   316.469861   266.546064  "
      ]
     },
     "execution_count": 43,
     "metadata": {},
     "output_type": "execute_result"
    }
   ],
   "source": [
    "data1.head()"
   ]
  },
  {
   "cell_type": "code",
   "execution_count": 44,
   "id": "110d7698",
   "metadata": {
    "scrolled": true
   },
   "outputs": [
    {
     "data": {
      "image/png": "[encoded data removed]",
      "text/plain": [
       "<Figure size 640x480 with 1 Axes>"
      ]
     },
     "metadata": {},
     "output_type": "display_data"
    }
   ],
   "source": [
    "# ploting the corridor around\n",
    "sns.scatterplot(data = data1, x = 'Temperature', y= 'Revenue')\n",
    "sns.lineplot(data = data1,x = 'Temperature',y = 'upper_limit')\n",
    "sns.lineplot(data = data1,x = 'Temperature',y = 'lower_limit')\n",
    "plt.title('corridor 68 % of data- math - Revenue by Temperature @Ice Cream')\n",
    "plt.savefig(\"scatterplot_with_corridor_68%_data_math.jpg\")"
   ]
  },
  {
   "cell_type": "code",
   "execution_count": 45,
   "id": "b63a724f",
   "metadata": {},
   "outputs": [],
   "source": [
    "List =[]\n",
    "for i in range(data1.shape[0]):\n",
    "    if data1['lower_limit'][i]<=data1['Revenue'][i]<=data1['upper_limit'][i]:\n",
    "        List.append(data1['Revenue'][i])"
   ]
  },
  {
   "cell_type": "code",
   "execution_count": 46,
   "id": "9328b647",
   "metadata": {},
   "outputs": [
    {
     "data": {
      "text/plain": [
       "0.684"
      ]
     },
     "execution_count": 46,
     "metadata": {},
     "output_type": "execute_result"
    }
   ],
   "source": [
    "len(List)/data1.shape[0]"
   ]
  },
  {
   "cell_type": "markdown",
   "id": "93c1053a",
   "metadata": {},
   "source": [
    "# Second way taking on Machine learning for linear regression"
   ]
  },
  {
   "cell_type": "markdown",
   "id": "8d628ec9",
   "metadata": {},
   "source": [
    "##  2.Step import dataset and analyse data"
   ]
  },
  {
   "cell_type": "code",
   "execution_count": 47,
   "id": "805d6b97",
   "metadata": {},
   "outputs": [
    {
     "data": {
      "text/html": [
       "<div>\n",
       "<style scoped>\n",
       "    .dataframe tbody tr th:only-of-type {\n",
       "        vertical-align: middle;\n",
       "    }\n",
       "\n",
       "    .dataframe tbody tr th {\n",
       "        vertical-align: top;\n",
       "    }\n",
       "\n",
       "    .dataframe thead th {\n",
       "        text-align: right;\n",
       "    }\n",
       "</style>\n",
       "<table border=\"1\" class=\"dataframe\">\n",
       "  <thead>\n",
       "    <tr style=\"text-align: right;\">\n",
       "      <th></th>\n",
       "      <th>Temperature</th>\n",
       "      <th>Revenue</th>\n",
       "      <th>Random</th>\n",
       "    </tr>\n",
       "  </thead>\n",
       "  <tbody>\n",
       "    <tr>\n",
       "      <th>0</th>\n",
       "      <td>24.566884</td>\n",
       "      <td>534.799028</td>\n",
       "      <td>529.662767</td>\n",
       "    </tr>\n",
       "    <tr>\n",
       "      <th>1</th>\n",
       "      <td>26.005191</td>\n",
       "      <td>625.190122</td>\n",
       "      <td>737.742088</td>\n",
       "    </tr>\n",
       "    <tr>\n",
       "      <th>2</th>\n",
       "      <td>27.790554</td>\n",
       "      <td>660.632289</td>\n",
       "      <td>468.843987</td>\n",
       "    </tr>\n",
       "    <tr>\n",
       "      <th>3</th>\n",
       "      <td>20.595335</td>\n",
       "      <td>487.706960</td>\n",
       "      <td>153.527633</td>\n",
       "    </tr>\n",
       "    <tr>\n",
       "      <th>4</th>\n",
       "      <td>11.503498</td>\n",
       "      <td>316.240194</td>\n",
       "      <td>89.148097</td>\n",
       "    </tr>\n",
       "  </tbody>\n",
       "</table>\n",
       "</div>"
      ],
      "text/plain": [
       "   Temperature     Revenue      Random\n",
       "0    24.566884  534.799028  529.662767\n",
       "1    26.005191  625.190122  737.742088\n",
       "2    27.790554  660.632289  468.843987\n",
       "3    20.595335  487.706960  153.527633\n",
       "4    11.503498  316.240194   89.148097"
      ]
     },
     "execution_count": 47,
     "metadata": {},
     "output_type": "execute_result"
    }
   ],
   "source": [
    "# getting back two the original data\n",
    "my_csv_data.head()"
   ]
  },
  {
   "cell_type": "markdown",
   "id": "8972514a",
   "metadata": {},
   "source": [
    "## 3.Step Visualize Dataset\n",
    "## 4.Step: Create 75% training data set and 25%test data"
   ]
  },
  {
   "cell_type": "code",
   "execution_count": 48,
   "id": "9b88c5d8",
   "metadata": {},
   "outputs": [],
   "source": [
    "# x~independent variable Temperature y~dependent variable Revenue\n",
    "# important is, that X is 1 dimension greater as y\n",
    "X=my_csv_data[['Temperature']]\n",
    "y=my_csv_data.loc[:,['Revenue','Random']]"
   ]
  },
  {
   "cell_type": "code",
   "execution_count": 49,
   "id": "038622f7",
   "metadata": {},
   "outputs": [],
   "source": [
    "# we have no missing data as prooven in 1.step, so we can go a head\n",
    "# import library to divide in train and test dataset\n",
    "from sklearn.model_selection import train_test_split"
   ]
  },
  {
   "cell_type": "code",
   "execution_count": 50,
   "id": "4bf0484e",
   "metadata": {},
   "outputs": [],
   "source": [
    "# this spilts the data automaticaly and shuffles it\n",
    "# X=x,y=y, test_size~part of dataset normaly 25%, \n",
    "# \"random_state = 42\" means that shuffle will have always same output on any machine\n",
    "X_train, X_test, y_train, y_test = train_test_split(X, y, test_size=0.25)"
   ]
  },
  {
   "cell_type": "code",
   "execution_count": 51,
   "id": "c4b89f8f",
   "metadata": {},
   "outputs": [
    {
     "data": {
      "text/plain": [
       "(375, 1)"
      ]
     },
     "execution_count": 51,
     "metadata": {},
     "output_type": "execute_result"
    }
   ],
   "source": [
    "# temperature train dataset\n",
    "X_train.shape"
   ]
  },
  {
   "cell_type": "code",
   "execution_count": 52,
   "id": "94b1d436",
   "metadata": {},
   "outputs": [
    {
     "data": {
      "text/plain": [
       "(125, 1)"
      ]
     },
     "execution_count": 52,
     "metadata": {},
     "output_type": "execute_result"
    }
   ],
   "source": [
    "# temperature test dataset\n",
    "X_test.shape"
   ]
  },
  {
   "cell_type": "code",
   "execution_count": 53,
   "id": "9f124e22",
   "metadata": {},
   "outputs": [
    {
     "data": {
      "text/plain": [
       "(375, 2)"
      ]
     },
     "execution_count": 53,
     "metadata": {},
     "output_type": "execute_result"
    }
   ],
   "source": [
    "# revenue train dataset\n",
    "y_train.shape"
   ]
  },
  {
   "cell_type": "code",
   "execution_count": 54,
   "id": "fffdaede",
   "metadata": {},
   "outputs": [
    {
     "data": {
      "text/plain": [
       "(125, 2)"
      ]
     },
     "execution_count": 54,
     "metadata": {},
     "output_type": "execute_result"
    }
   ],
   "source": [
    "# revenue testt dataset\n",
    "y_test.shape"
   ]
  },
  {
   "cell_type": "markdown",
   "id": "e7d446da",
   "metadata": {},
   "source": [
    "# 5.Step: Train the Model"
   ]
  },
  {
   "cell_type": "code",
   "execution_count": 55,
   "id": "36fb8044",
   "metadata": {},
   "outputs": [],
   "source": [
    "# import of the classifier LinearRegression\n",
    "from sklearn.linear_model import LinearRegression"
   ]
  },
  {
   "cell_type": "code",
   "execution_count": 56,
   "id": "38f0dd20",
   "metadata": {},
   "outputs": [],
   "source": [
    "# we define the Machine Learning operator \"regressor\"\n",
    "#fit_intercept = True, means the we have a y-axes interseption distinct to 0 and we order to become b from y = m*x+b\n",
    "regressor = LinearRegression(fit_intercept = True)"
   ]
  },
  {
   "cell_type": "code",
   "execution_count": 57,
   "id": "1086c960",
   "metadata": {},
   "outputs": [
    {
     "data": {
      "text/html": [
       "<style>#sk-container-id-1 {color: black;background-color: white;}#sk-container-id-1 pre{padding: 0;}#sk-container-id-1 div.sk-toggleable {background-color: white;}#sk-container-id-1 label.sk-toggleable__label {cursor: pointer;display: block;width: 100%;margin-bottom: 0;padding: 0.3em;box-sizing: border-box;text-align: center;}#sk-container-id-1 label.sk-toggleable__label-arrow:before {content: \"▸\";float: left;margin-right: 0.25em;color: #696969;}#sk-container-id-1 label.sk-toggleable__label-arrow:hover:before {color: black;}#sk-container-id-1 div.sk-estimator:hover label.sk-toggleable__label-arrow:before {color: black;}#sk-container-id-1 div.sk-toggleable__content {max-height: 0;max-width: 0;overflow: hidden;text-align: left;background-color: #f0f8ff;}#sk-container-id-1 div.sk-toggleable__content pre {margin: 0.2em;color: black;border-radius: 0.25em;background-color: #f0f8ff;}#sk-container-id-1 input.sk-toggleable__control:checked~div.sk-toggleable__content {max-height: 200px;max-width: 100%;overflow: auto;}#sk-container-id-1 input.sk-toggleable__control:checked~label.sk-toggleable__label-arrow:before {content: \"▾\";}#sk-container-id-1 div.sk-estimator input.sk-toggleable__control:checked~label.sk-toggleable__label {background-color: #d4ebff;}#sk-container-id-1 div.sk-label input.sk-toggleable__control:checked~label.sk-toggleable__label {background-color: #d4ebff;}#sk-container-id-1 input.sk-hidden--visually {border: 0;clip: rect(1px 1px 1px 1px);clip: rect(1px, 1px, 1px, 1px);height: 1px;margin: -1px;overflow: hidden;padding: 0;position: absolute;width: 1px;}#sk-container-id-1 div.sk-estimator {font-family: monospace;background-color: #f0f8ff;border: 1px dotted black;border-radius: 0.25em;box-sizing: border-box;margin-bottom: 0.5em;}#sk-container-id-1 div.sk-estimator:hover {background-color: #d4ebff;}#sk-container-id-1 div.sk-parallel-item::after {content: \"\";width: 100%;border-bottom: 1px solid gray;flex-grow: 1;}#sk-container-id-1 div.sk-label:hover label.sk-toggleable__label {background-color: #d4ebff;}#sk-container-id-1 div.sk-serial::before {content: \"\";position: absolute;border-left: 1px solid gray;box-sizing: border-box;top: 0;bottom: 0;left: 50%;z-index: 0;}#sk-container-id-1 div.sk-serial {display: flex;flex-direction: column;align-items: center;background-color: white;padding-right: 0.2em;padding-left: 0.2em;position: relative;}#sk-container-id-1 div.sk-item {position: relative;z-index: 1;}#sk-container-id-1 div.sk-parallel {display: flex;align-items: stretch;justify-content: center;background-color: white;position: relative;}#sk-container-id-1 div.sk-item::before, #sk-container-id-1 div.sk-parallel-item::before {content: \"\";position: absolute;border-left: 1px solid gray;box-sizing: border-box;top: 0;bottom: 0;left: 50%;z-index: -1;}#sk-container-id-1 div.sk-parallel-item {display: flex;flex-direction: column;z-index: 1;position: relative;background-color: white;}#sk-container-id-1 div.sk-parallel-item:first-child::after {align-self: flex-end;width: 50%;}#sk-container-id-1 div.sk-parallel-item:last-child::after {align-self: flex-start;width: 50%;}#sk-container-id-1 div.sk-parallel-item:only-child::after {width: 0;}#sk-container-id-1 div.sk-dashed-wrapped {border: 1px dashed gray;margin: 0 0.4em 0.5em 0.4em;box-sizing: border-box;padding-bottom: 0.4em;background-color: white;}#sk-container-id-1 div.sk-label label {font-family: monospace;font-weight: bold;display: inline-block;line-height: 1.2em;}#sk-container-id-1 div.sk-label-container {text-align: center;}#sk-container-id-1 div.sk-container {/* jupyter's `normalize.less` sets `[hidden] { display: none; }` but bootstrap.min.css set `[hidden] { display: none !important; }` so we also need the `!important` here to be able to override the default hidden behavior on the sphinx rendered scikit-learn.org. See: https://github.com/scikit-learn/scikit-learn/issues/21755 */display: inline-block !important;position: relative;}#sk-container-id-1 div.sk-text-repr-fallback {display: none;}</style><div id=\"sk-container-id-1\" class=\"sk-top-container\"><div class=\"sk-text-repr-fallback\"><pre>LinearRegression()</pre><b>In a Jupyter environment, please rerun this cell to show the HTML representation or trust the notebook. <br />On GitHub, the HTML representation is unable to render, please try loading this page with nbviewer.org.</b></div><div class=\"sk-container\" hidden><div class=\"sk-item\"><div class=\"sk-estimator sk-toggleable\"><input class=\"sk-toggleable__control sk-hidden--visually\" id=\"sk-estimator-id-1\" type=\"checkbox\" checked><label for=\"sk-estimator-id-1\" class=\"sk-toggleable__label sk-toggleable__label-arrow\">LinearRegression</label><div class=\"sk-toggleable__content\"><pre>LinearRegression()</pre></div></div></div></div></div>"
      ],
      "text/plain": [
       "LinearRegression()"
      ]
     },
     "execution_count": 57,
     "metadata": {},
     "output_type": "execute_result"
    }
   ],
   "source": [
    "# We put the machine learning operator to train for fitting optimal the training data\n",
    "regressor.fit(X_train,y_train)"
   ]
  },
  {
   "cell_type": "code",
   "execution_count": 58,
   "id": "1becf088",
   "metadata": {},
   "outputs": [
    {
     "name": "stdout",
     "output_type": "stream",
     "text": [
      "Linear Model Coefficient (m):  [[21.56500614]\n",
      " [18.15536864]]\n",
      "Linear Model Coefficient (b):  [43.33628766 90.38182031]\n"
     ]
    }
   ],
   "source": [
    "# output: y = m*x+b\n",
    "print('Linear Model Coefficient (m): ', regressor.coef_)\n",
    "print('Linear Model Coefficient (b): ', regressor.intercept_)"
   ]
  },
  {
   "cell_type": "markdown",
   "id": "64d48dc2",
   "metadata": {},
   "source": [
    "# 6.Step: Testing Model"
   ]
  },
  {
   "cell_type": "code",
   "execution_count": 59,
   "id": "b65321d5",
   "metadata": {},
   "outputs": [
    {
     "data": {
      "text/plain": [
       "(125, 2)"
      ]
     },
     "execution_count": 59,
     "metadata": {},
     "output_type": "execute_result"
    }
   ],
   "source": [
    "# all artificial intelligence is stored in regressor\n",
    "# now we make a prediction over the remaining test data\n",
    "# putting in X testing values we are going to get y-values based on the modell m=21.38... and b = 46.81...\n",
    "y_predict = regressor.predict(X_test)\n",
    "y_predict.shape"
   ]
  },
  {
   "cell_type": "code",
   "execution_count": 60,
   "id": "6e75ea4d",
   "metadata": {},
   "outputs": [
    {
     "data": {
      "text/plain": [
       "(125, 2)"
      ]
     },
     "execution_count": 60,
     "metadata": {},
     "output_type": "execute_result"
    }
   ],
   "source": [
    "# prediction and tet data for revenue have the same shape, so we can proceed\n",
    "y_test.shape"
   ]
  },
  {
   "cell_type": "code",
   "execution_count": 61,
   "id": "4c38a0e8",
   "metadata": {},
   "outputs": [],
   "source": [
    "# split the revenue data for plot\n",
    "y_train_revenue = y_train.iloc[:,0]\n",
    "y_train_random = y_train.iloc[:,1]"
   ]
  },
  {
   "cell_type": "code",
   "execution_count": 62,
   "id": "8c125d72",
   "metadata": {},
   "outputs": [
    {
     "data": {
      "image/png": "[encoded data removed]",
      "text/plain": [
       "<Figure size 640x480 with 1 Axes>"
      ]
     },
     "metadata": {},
     "output_type": "display_data"
    }
   ],
   "source": [
    "# y_predict should predict y_test\n",
    "# so we watch the visualization of y_test\n",
    "plt.scatter(X_train, y_train_revenue, color = 'gray')\n",
    "# we plot now the prediction line from our modell to see how it fits on the training data\n",
    "plt.plot(X_train, regressor.predict(X_train)[:,0], color = 'red')\n",
    "plt.ylabel('Revenue [dollars]')\n",
    "plt.xlabel('Temperature [degC]')\n",
    "plt.title('Revenue by Temperature @Ice Cream (Train dataset)')\n",
    "plt.savefig(\"ML_scatterplot_train_data.jpg\")\n",
    "# through definition it is the best line for represantation of the data in our model"
   ]
  },
  {
   "cell_type": "code",
   "execution_count": 63,
   "id": "af021d35",
   "metadata": {},
   "outputs": [],
   "source": [
    "# now wesplitthe test data aswell\n",
    "y_predict_revenue= y_predict[:,0]\n",
    "y_predict_random= y_predict[:,1]"
   ]
  },
  {
   "cell_type": "code",
   "execution_count": 64,
   "id": "5c2a79db",
   "metadata": {},
   "outputs": [],
   "source": [
    "y_test_revenue = y_test.iloc[:,0]\n",
    "y_test_random = y_test.iloc[:,1]"
   ]
  },
  {
   "cell_type": "code",
   "execution_count": 65,
   "id": "72b0aba8",
   "metadata": {},
   "outputs": [
    {
     "data": {
      "image/png": "[encoded data removed]",
      "text/plain": [
       "<Figure size 640x480 with 1 Axes>"
      ]
     },
     "metadata": {},
     "output_type": "display_data"
    }
   ],
   "source": [
    "# no lets se how the line fits on the test data\n",
    "plt.scatter(X_test, y_test_revenue, color = 'gray')\n",
    "plt.plot(X_test, y_predict_revenue, color = 'red')\n",
    "plt.ylabel('Revenue [dollars]')\n",
    "plt.xlabel('Hours')\n",
    "plt.title('Revenue by Temperature @Ice Cream (Test dataset)')\n",
    "plt.savefig(\"ML_scatterplot_test_data.jpg\")"
   ]
  },
  {
   "cell_type": "code",
   "execution_count": 66,
   "id": "70be057c",
   "metadata": {},
   "outputs": [
    {
     "data": {
      "image/png": "[encoded data removed]",
      "text/plain": [
       "<Figure size 640x480 with 1 Axes>"
      ]
     },
     "metadata": {},
     "output_type": "display_data"
    }
   ],
   "source": [
    "# check with non-relational data - controlling fitting on this non-relational data\n",
    "plt.scatter(X_test, y_test_random, color = 'gray')\n",
    "plt.plot(X_test, y_predict_random, color = 'red')\n",
    "plt.ylabel('Revenue [dollars]')\n",
    "plt.xlabel('Tempera')\n",
    "plt.title('Random by Temperature (control dataset)')\n",
    "plt.savefig(\"ML_scatterplot_random_data.jpg\")"
   ]
  },
  {
   "cell_type": "markdown",
   "id": "30c2e078",
   "metadata": {},
   "source": [
    "# Math vs. Machine Learning"
   ]
  },
  {
   "cell_type": "code",
   "execution_count": 67,
   "id": "be633259",
   "metadata": {},
   "outputs": [
    {
     "data": {
      "image/png": "[encoded data removed]",
      "text/plain": [
       "<Figure size 640x480 with 1 Axes>"
      ]
     },
     "metadata": {},
     "output_type": "display_data"
    }
   ],
   "source": [
    "# we compare the machine learning method with the math method. Both are very close together...\n",
    "plt.scatter(X_test, y_test_revenue, color = 'gray')\n",
    "plt.plot(X_test, y_predict_revenue, color = 'red',linewidth=3)\n",
    "plt.plot(X_test, reg_line_ice(X_test), color = 'blue',linewidth=0.5)\n",
    "plt.ylabel('Revenue [dollars]')\n",
    "plt.xlabel('Temperature')\n",
    "plt.title('ML_red vs. Math_blue - Revenue by Temperature @Ice Cream')\n",
    "plt.savefig(\"ML_red_vs_Math_blue_scatterplot.jpg\", format = 'jpg')"
   ]
  },
  {
   "cell_type": "markdown",
   "id": "57b474a5",
   "metadata": {},
   "source": [
    "## MSE comparison ML vs. Math"
   ]
  },
  {
   "cell_type": "code",
   "execution_count": 99,
   "id": "e5b6987e",
   "metadata": {
    "scrolled": true
   },
   "outputs": [
    {
     "data": {
      "text/plain": [
       "(125,)"
      ]
     },
     "execution_count": 99,
     "metadata": {},
     "output_type": "execute_result"
    }
   ],
   "source": [
    "pd.array(y_test.iloc[:,0]).shape"
   ]
  },
  {
   "cell_type": "code",
   "execution_count": 146,
   "id": "c6b97842",
   "metadata": {
    "scrolled": true
   },
   "outputs": [
    {
     "data": {
      "text/plain": [
       "529.67752509123"
      ]
     },
     "execution_count": 146,
     "metadata": {},
     "output_type": "execute_result"
    }
   ],
   "source": [
    "# MSE of math:\n",
    "mse_math = round(st.mean((pd.array(y_test.iloc[:,0])-pd.array(reg_line_ice(X_test.squeeze())))**2),14)\n",
    "mse_math\n",
    "# MSE is more sensitive to outliers"
   ]
  },
  {
   "cell_type": "code",
   "execution_count": 147,
   "id": "c5a4928e",
   "metadata": {
    "scrolled": true
   },
   "outputs": [
    {
     "data": {
      "text/plain": [
       "546.3684595102579"
      ]
     },
     "execution_count": 147,
     "metadata": {},
     "output_type": "execute_result"
    }
   ],
   "source": [
    "# MSE of ML:\n",
    "mse_ml=round(st.mean((pd.array(y_test.iloc[:,0])-pd.array(y_predict_revenue))**2),14)\n",
    "mse_ml"
   ]
  },
  {
   "cell_type": "markdown",
   "id": "fecce0e4",
   "metadata": {},
   "source": [
    "## MAE comparison ML vs. Math"
   ]
  },
  {
   "cell_type": "code",
   "execution_count": 29,
   "id": "efd0b31d",
   "metadata": {},
   "outputs": [
    {
     "data": {
      "text/plain": [
       "9.65412142440357"
      ]
     },
     "execution_count": 29,
     "metadata": {},
     "output_type": "execute_result"
    }
   ],
   "source": [
    "# absolute residual, meaning:\n",
    "# less sensitive for big residuals, but meaningfull for one data as the normal desviance between regression line and data\n",
    "e_1 = abs(my_csv_data.loc[41,:]['Revenue']-reg_line_ice(my_csv_data.loc[41,:]['Temperature']))\n",
    "e_1"
   ]
  },
  {
   "cell_type": "code",
   "execution_count": 106,
   "id": "0a7d6025",
   "metadata": {},
   "outputs": [
    {
     "data": {
      "text/plain": [
       "18.17560913713292"
      ]
     },
     "execution_count": 106,
     "metadata": {},
     "output_type": "execute_result"
    }
   ],
   "source": [
    "# MSA is just the mean over the absolute residual:\n",
    "# data values differ in about this value at mean from linear regression\n",
    "round(st.mean(abs(pd.array(y_test.iloc[:,0])-pd.array(reg_line_ice(X_test.squeeze())))),14)"
   ]
  },
  {
   "cell_type": "code",
   "execution_count": 107,
   "id": "d23ae3d3",
   "metadata": {},
   "outputs": [
    {
     "data": {
      "text/plain": [
       "18.47727258816446"
      ]
     },
     "execution_count": 107,
     "metadata": {},
     "output_type": "execute_result"
    }
   ],
   "source": [
    "# comparing MSA of the data with the MSA of the non-relational data\n",
    "round(st.mean(abs(pd.array(y_test.iloc[:,0])-pd.array(y_predict_revenue))),14)"
   ]
  },
  {
   "cell_type": "markdown",
   "id": "e62e1580",
   "metadata": {},
   "source": [
    "## Coefficient of Determination"
   ]
  },
  {
   "cell_type": "code",
   "execution_count": 120,
   "id": "db11c505",
   "metadata": {
    "scrolled": true
   },
   "outputs": [
    {
     "data": {
      "text/plain": [
       "array([ 515.55455755,  365.33430121,  443.40250796,  807.99121239,\n",
       "        446.78468869,  637.00434854,  647.13969225,  527.42827667,\n",
       "        648.15717172,  638.51032393,  361.02816736,  541.22189853,\n",
       "        716.78961586,  381.07586139,  548.19165589,  866.80034595,\n",
       "        316.96235092,  609.43378364,  311.6621201 ,  353.43454127,\n",
       "        712.50560468,  396.56188509,  229.61644729,  629.65682662,\n",
       "        697.41007623,  615.46061823,  282.23004252,  747.0640739 ,\n",
       "        400.36314117,  468.62692225,  486.77782865,  411.89614268,\n",
       "        681.4336175 ,  397.13223033,  455.52232779,  525.58163199,\n",
       "        476.87702465,  353.5291366 ,  256.83617265,  444.50471095,\n",
       "        624.81980329,  422.62963712,  498.98601109,  528.17797031,\n",
       "        752.67602085,  896.01466765,  477.43016749,  760.06376453,\n",
       "        612.00004029,  352.84833755,  740.63662232,  529.12577778,\n",
       "        441.48898566,  766.87283823,  750.77701525,  494.01723161,\n",
       "        624.6581134 ,  675.29963783,  902.90441561, 1013.76156379,\n",
       "        593.2371242 ,  629.59845381,  232.9132389 ,  494.7912303 ,\n",
       "        572.72606051,  383.0703316 ,  479.90150339,  314.44105925,\n",
       "        434.71855624,  573.12130092,  307.95976092,  510.96106072,\n",
       "        628.38222089,  628.35454889,  304.76915917,  228.51387701,\n",
       "        522.621186  ,  371.43857056,  445.17673282,  591.56543684,\n",
       "        582.21385301,  538.04436647,  662.89707532,  129.30568424,\n",
       "        665.05021912,  239.01366515,  474.15049278,  703.98687325,\n",
       "        474.98973964,  496.77069257,  196.60937486,  495.07817018,\n",
       "        577.32630481,  678.7230157 ,  761.77441576,  184.42565077,\n",
       "        386.57954251,  679.68068463,  509.36995295,  675.45001816,\n",
       "        457.44845419,  357.13326826,  944.03303832,  673.24396742,\n",
       "        462.41482334,  548.11392785,  264.27101875,  862.77707899,\n",
       "        536.54009774,  653.59770619,  511.22753972,  470.63908591,\n",
       "        577.688565  ,  587.37338338,  895.43771338,  586.58951201,\n",
       "        512.42028899,  603.94004592,  535.92352122,  864.88988826,\n",
       "        174.75121828,  695.20552771,  657.76134237,  246.1223745 ,\n",
       "        572.15006286])"
      ]
     },
     "execution_count": 120,
     "metadata": {},
     "output_type": "execute_result"
    }
   ],
   "source": [
    "y_predict_revenue"
   ]
  },
  {
   "cell_type": "code",
   "execution_count": 128,
   "id": "14f94bc0",
   "metadata": {
    "scrolled": true
   },
   "outputs": [
    {
     "data": {
      "text/html": [
       "<div>\n",
       "<style scoped>\n",
       "    .dataframe tbody tr th:only-of-type {\n",
       "        vertical-align: middle;\n",
       "    }\n",
       "\n",
       "    .dataframe tbody tr th {\n",
       "        vertical-align: top;\n",
       "    }\n",
       "\n",
       "    .dataframe thead th {\n",
       "        text-align: right;\n",
       "    }\n",
       "</style>\n",
       "<table border=\"1\" class=\"dataframe\">\n",
       "  <thead>\n",
       "    <tr style=\"text-align: right;\">\n",
       "      <th></th>\n",
       "      <th>Revenue</th>\n",
       "      <th>ML</th>\n",
       "      <th>Math</th>\n",
       "      <th>Temperature</th>\n",
       "    </tr>\n",
       "  </thead>\n",
       "  <tbody>\n",
       "    <tr>\n",
       "      <th>0</th>\n",
       "      <td>493.420219</td>\n",
       "      <td>515.554558</td>\n",
       "      <td>514.391613</td>\n",
       "      <td>21.897433</td>\n",
       "    </tr>\n",
       "    <tr>\n",
       "      <th>1</th>\n",
       "      <td>377.430928</td>\n",
       "      <td>365.334301</td>\n",
       "      <td>365.016885</td>\n",
       "      <td>14.931506</td>\n",
       "    </tr>\n",
       "    <tr>\n",
       "      <th>2</th>\n",
       "      <td>443.113603</td>\n",
       "      <td>443.402508</td>\n",
       "      <td>442.645678</td>\n",
       "      <td>18.551640</td>\n",
       "    </tr>\n",
       "    <tr>\n",
       "      <th>3</th>\n",
       "      <td>828.296077</td>\n",
       "      <td>807.991212</td>\n",
       "      <td>805.182261</td>\n",
       "      <td>35.458136</td>\n",
       "    </tr>\n",
       "    <tr>\n",
       "      <th>4</th>\n",
       "      <td>436.951311</td>\n",
       "      <td>446.784689</td>\n",
       "      <td>446.008822</td>\n",
       "      <td>18.708476</td>\n",
       "    </tr>\n",
       "  </tbody>\n",
       "</table>\n",
       "</div>"
      ],
      "text/plain": [
       "      Revenue          ML        Math  Temperature\n",
       "0  493.420219  515.554558  514.391613    21.897433\n",
       "1  377.430928  365.334301  365.016885    14.931506\n",
       "2  443.113603  443.402508  442.645678    18.551640\n",
       "3  828.296077  807.991212  805.182261    35.458136\n",
       "4  436.951311  446.784689  446.008822    18.708476"
      ]
     },
     "execution_count": 128,
     "metadata": {},
     "output_type": "execute_result"
    }
   ],
   "source": [
    "test_DF = pd.DataFrame([pd.array(y_test.iloc[:,0]),pd.array(y_predict_revenue),pd.array(reg_line_ice(X_test.squeeze())),pd.array(X_test.squeeze())]).T\n",
    "test_DF.columns = ['Revenue','ML','Math','Temperature']\n",
    "test_DF.head()"
   ]
  },
  {
   "cell_type": "code",
   "execution_count": 129,
   "id": "9df6d5c5",
   "metadata": {},
   "outputs": [
    {
     "data": {
      "text/html": [
       "<div>\n",
       "<style scoped>\n",
       "    .dataframe tbody tr th:only-of-type {\n",
       "        vertical-align: middle;\n",
       "    }\n",
       "\n",
       "    .dataframe tbody tr th {\n",
       "        vertical-align: top;\n",
       "    }\n",
       "\n",
       "    .dataframe thead th {\n",
       "        text-align: right;\n",
       "    }\n",
       "</style>\n",
       "<table border=\"1\" class=\"dataframe\">\n",
       "  <thead>\n",
       "    <tr style=\"text-align: right;\">\n",
       "      <th></th>\n",
       "      <th>Revenue</th>\n",
       "      <th>ML</th>\n",
       "      <th>Math</th>\n",
       "      <th>Temperature</th>\n",
       "    </tr>\n",
       "  </thead>\n",
       "  <tbody>\n",
       "    <tr>\n",
       "      <th>Revenue</th>\n",
       "      <td>1.000000</td>\n",
       "      <td>0.983352</td>\n",
       "      <td>0.983352</td>\n",
       "      <td>0.983352</td>\n",
       "    </tr>\n",
       "    <tr>\n",
       "      <th>ML</th>\n",
       "      <td>0.983352</td>\n",
       "      <td>1.000000</td>\n",
       "      <td>1.000000</td>\n",
       "      <td>1.000000</td>\n",
       "    </tr>\n",
       "    <tr>\n",
       "      <th>Math</th>\n",
       "      <td>0.983352</td>\n",
       "      <td>1.000000</td>\n",
       "      <td>1.000000</td>\n",
       "      <td>1.000000</td>\n",
       "    </tr>\n",
       "    <tr>\n",
       "      <th>Temperature</th>\n",
       "      <td>0.983352</td>\n",
       "      <td>1.000000</td>\n",
       "      <td>1.000000</td>\n",
       "      <td>1.000000</td>\n",
       "    </tr>\n",
       "  </tbody>\n",
       "</table>\n",
       "</div>"
      ],
      "text/plain": [
       "              Revenue        ML      Math  Temperature\n",
       "Revenue      1.000000  0.983352  0.983352     0.983352\n",
       "ML           0.983352  1.000000  1.000000     1.000000\n",
       "Math         0.983352  1.000000  1.000000     1.000000\n",
       "Temperature  0.983352  1.000000  1.000000     1.000000"
      ]
     },
     "execution_count": 129,
     "metadata": {},
     "output_type": "execute_result"
    }
   ],
   "source": [
    "# coefficient of determination has a relation to the pearson coefficient by simple models\n",
    "# for simple models like linear regression the coefficient of determination is the square pearson-coefficient\n",
    "r = test_DF.corr()\n",
    "r_sq = r**2\n",
    "r_sq"
   ]
  },
  {
   "cell_type": "code",
   "execution_count": 124,
   "id": "b5c81173",
   "metadata": {},
   "outputs": [
    {
     "data": {
      "text/html": [
       "<div>\n",
       "<style scoped>\n",
       "    .dataframe tbody tr th:only-of-type {\n",
       "        vertical-align: middle;\n",
       "    }\n",
       "\n",
       "    .dataframe tbody tr th {\n",
       "        vertical-align: top;\n",
       "    }\n",
       "\n",
       "    .dataframe thead th {\n",
       "        text-align: right;\n",
       "    }\n",
       "</style>\n",
       "<table border=\"1\" class=\"dataframe\">\n",
       "  <thead>\n",
       "    <tr style=\"text-align: right;\">\n",
       "      <th></th>\n",
       "      <th>ML</th>\n",
       "      <th>Math</th>\n",
       "      <th>Temperature</th>\n",
       "    </tr>\n",
       "  </thead>\n",
       "  <tbody>\n",
       "    <tr>\n",
       "      <th>ML</th>\n",
       "      <td>1.0</td>\n",
       "      <td>1.0</td>\n",
       "      <td>1.0</td>\n",
       "    </tr>\n",
       "    <tr>\n",
       "      <th>Math</th>\n",
       "      <td>1.0</td>\n",
       "      <td>1.0</td>\n",
       "      <td>1.0</td>\n",
       "    </tr>\n",
       "    <tr>\n",
       "      <th>Temperature</th>\n",
       "      <td>1.0</td>\n",
       "      <td>1.0</td>\n",
       "      <td>1.0</td>\n",
       "    </tr>\n",
       "  </tbody>\n",
       "</table>\n",
       "</div>"
      ],
      "text/plain": [
       "              ML  Math  Temperature\n",
       "ML           1.0   1.0          1.0\n",
       "Math         1.0   1.0          1.0\n",
       "Temperature  1.0   1.0          1.0"
      ]
     },
     "execution_count": 124,
     "metadata": {},
     "output_type": "execute_result"
    }
   ],
   "source": [
    "# for simple models like linear regression the coefficient of determination is the square pearson-coefficient\n",
    "r_sq = r**2\n",
    "r_sq"
   ]
  },
  {
   "cell_type": "code",
   "execution_count": 130,
   "id": "30b26c48",
   "metadata": {},
   "outputs": [],
   "source": [
    "# making a copy of the data for merging mean and linear regression to the table and later getting back to original data\n",
    "test_DF1 = test_DF.copy()"
   ]
  },
  {
   "cell_type": "markdown",
   "id": "0ede6689",
   "metadata": {},
   "source": [
    "### Calculating the coefficient of determination with math"
   ]
  },
  {
   "cell_type": "code",
   "execution_count": 131,
   "id": "0583501d",
   "metadata": {},
   "outputs": [
    {
     "data": {
      "text/html": [
       "<div>\n",
       "<style scoped>\n",
       "    .dataframe tbody tr th:only-of-type {\n",
       "        vertical-align: middle;\n",
       "    }\n",
       "\n",
       "    .dataframe tbody tr th {\n",
       "        vertical-align: top;\n",
       "    }\n",
       "\n",
       "    .dataframe thead th {\n",
       "        text-align: right;\n",
       "    }\n",
       "</style>\n",
       "<table border=\"1\" class=\"dataframe\">\n",
       "  <thead>\n",
       "    <tr style=\"text-align: right;\">\n",
       "      <th></th>\n",
       "      <th>Revenue</th>\n",
       "      <th>ML</th>\n",
       "      <th>Math</th>\n",
       "      <th>Temperature</th>\n",
       "      <th>mean_Revenue</th>\n",
       "    </tr>\n",
       "  </thead>\n",
       "  <tbody>\n",
       "    <tr>\n",
       "      <th>0</th>\n",
       "      <td>493.420219</td>\n",
       "      <td>515.554558</td>\n",
       "      <td>514.391613</td>\n",
       "      <td>21.897433</td>\n",
       "      <td>529.826289</td>\n",
       "    </tr>\n",
       "    <tr>\n",
       "      <th>1</th>\n",
       "      <td>377.430928</td>\n",
       "      <td>365.334301</td>\n",
       "      <td>365.016885</td>\n",
       "      <td>14.931506</td>\n",
       "      <td>529.826289</td>\n",
       "    </tr>\n",
       "    <tr>\n",
       "      <th>2</th>\n",
       "      <td>443.113603</td>\n",
       "      <td>443.402508</td>\n",
       "      <td>442.645678</td>\n",
       "      <td>18.551640</td>\n",
       "      <td>529.826289</td>\n",
       "    </tr>\n",
       "    <tr>\n",
       "      <th>3</th>\n",
       "      <td>828.296077</td>\n",
       "      <td>807.991212</td>\n",
       "      <td>805.182261</td>\n",
       "      <td>35.458136</td>\n",
       "      <td>529.826289</td>\n",
       "    </tr>\n",
       "    <tr>\n",
       "      <th>4</th>\n",
       "      <td>436.951311</td>\n",
       "      <td>446.784689</td>\n",
       "      <td>446.008822</td>\n",
       "      <td>18.708476</td>\n",
       "      <td>529.826289</td>\n",
       "    </tr>\n",
       "  </tbody>\n",
       "</table>\n",
       "</div>"
      ],
      "text/plain": [
       "      Revenue          ML        Math  Temperature  mean_Revenue\n",
       "0  493.420219  515.554558  514.391613    21.897433    529.826289\n",
       "1  377.430928  365.334301  365.016885    14.931506    529.826289\n",
       "2  443.113603  443.402508  442.645678    18.551640    529.826289\n",
       "3  828.296077  807.991212  805.182261    35.458136    529.826289\n",
       "4  436.951311  446.784689  446.008822    18.708476    529.826289"
      ]
     },
     "execution_count": 131,
     "metadata": {},
     "output_type": "execute_result"
    }
   ],
   "source": [
    "# first step of calculating the coefficient of determination: merging mean and linear regression to the table\n",
    "test_DF1['mean_Revenue'] = test_DF1['Revenue'].mean()\n",
    "test_DF1.head()"
   ]
  },
  {
   "cell_type": "code",
   "execution_count": 134,
   "id": "6306cfdc",
   "metadata": {},
   "outputs": [],
   "source": [
    "# So, the coefficient of determination is the portion that is distinct from mean at square residuals\n",
    "# SQR: Sum of square residuals\n",
    "SQR = sum((test_DF1['Revenue']-test_DF1['Math'])**2)\n",
    "# TQS: Total sum of square of difference between the data and the the mean\n",
    "TQS = sum((test_DF1['Revenue']-test_DF1['mean_Revenue'])**2)"
   ]
  },
  {
   "cell_type": "code",
   "execution_count": 136,
   "id": "38cf41cc",
   "metadata": {},
   "outputs": [],
   "source": [
    "# last step of calculating the coefficient of determination \n",
    "r_square_math = 1-SQR/TQS"
   ]
  },
  {
   "cell_type": "code",
   "execution_count": 137,
   "id": "f679da89",
   "metadata": {},
   "outputs": [],
   "source": [
    "# So, the coefficient of determination is the portion that is distinct from mean at square residuals\n",
    "# SQR: Sum of square residuals\n",
    "SQR = sum((test_DF1['Revenue']-test_DF1['ML'])**2)\n",
    "# TQS: Total sum of square of difference between the data and the the mean\n",
    "TQS = sum((test_DF1['Revenue']-test_DF1['mean_Revenue'])**2)"
   ]
  },
  {
   "cell_type": "code",
   "execution_count": 138,
   "id": "b6f28e34",
   "metadata": {},
   "outputs": [],
   "source": [
    "# last step of calculating the coefficient of determination \n",
    "r_square_ml = 1-SQR/TQS"
   ]
  },
  {
   "cell_type": "code",
   "execution_count": 145,
   "id": "ac8710df",
   "metadata": {},
   "outputs": [
    {
     "data": {
      "text/html": [
       "<div>\n",
       "<style scoped>\n",
       "    .dataframe tbody tr th:only-of-type {\n",
       "        vertical-align: middle;\n",
       "    }\n",
       "\n",
       "    .dataframe tbody tr th {\n",
       "        vertical-align: top;\n",
       "    }\n",
       "\n",
       "    .dataframe thead th {\n",
       "        text-align: right;\n",
       "    }\n",
       "</style>\n",
       "<table border=\"1\" class=\"dataframe\">\n",
       "  <thead>\n",
       "    <tr style=\"text-align: right;\">\n",
       "      <th></th>\n",
       "      <th>ML</th>\n",
       "      <th>Math</th>\n",
       "    </tr>\n",
       "  </thead>\n",
       "  <tbody>\n",
       "    <tr>\n",
       "      <th>0</th>\n",
       "      <td>0.982187</td>\n",
       "      <td>0.982731</td>\n",
       "    </tr>\n",
       "  </tbody>\n",
       "</table>\n",
       "</div>"
      ],
      "text/plain": [
       "         ML      Math\n",
       "0  0.982187  0.982731"
      ]
     },
     "execution_count": 145,
     "metadata": {},
     "output_type": "execute_result"
    }
   ],
   "source": [
    "r_square = pd.DataFrame([r_square_ml,r_square_math]).T\n",
    "r_square.columns= ['ML','Math']\n",
    "r_square"
   ]
  },
  {
   "cell_type": "code",
   "execution_count": 140,
   "id": "0f85ebe2",
   "metadata": {
    "scrolled": true
   },
   "outputs": [
    {
     "data": {
      "text/html": [
       "<div>\n",
       "<style scoped>\n",
       "    .dataframe tbody tr th:only-of-type {\n",
       "        vertical-align: middle;\n",
       "    }\n",
       "\n",
       "    .dataframe tbody tr th {\n",
       "        vertical-align: top;\n",
       "    }\n",
       "\n",
       "    .dataframe thead th {\n",
       "        text-align: right;\n",
       "    }\n",
       "</style>\n",
       "<table border=\"1\" class=\"dataframe\">\n",
       "  <thead>\n",
       "    <tr style=\"text-align: right;\">\n",
       "      <th></th>\n",
       "      <th>Revenue</th>\n",
       "      <th>ML</th>\n",
       "      <th>Math</th>\n",
       "      <th>Temperature</th>\n",
       "    </tr>\n",
       "  </thead>\n",
       "  <tbody>\n",
       "    <tr>\n",
       "      <th>Revenue</th>\n",
       "      <td>1.000000</td>\n",
       "      <td>0.983352</td>\n",
       "      <td>0.983352</td>\n",
       "      <td>0.983352</td>\n",
       "    </tr>\n",
       "    <tr>\n",
       "      <th>ML</th>\n",
       "      <td>0.983352</td>\n",
       "      <td>1.000000</td>\n",
       "      <td>1.000000</td>\n",
       "      <td>1.000000</td>\n",
       "    </tr>\n",
       "    <tr>\n",
       "      <th>Math</th>\n",
       "      <td>0.983352</td>\n",
       "      <td>1.000000</td>\n",
       "      <td>1.000000</td>\n",
       "      <td>1.000000</td>\n",
       "    </tr>\n",
       "    <tr>\n",
       "      <th>Temperature</th>\n",
       "      <td>0.983352</td>\n",
       "      <td>1.000000</td>\n",
       "      <td>1.000000</td>\n",
       "      <td>1.000000</td>\n",
       "    </tr>\n",
       "  </tbody>\n",
       "</table>\n",
       "</div>"
      ],
      "text/plain": [
       "              Revenue        ML      Math  Temperature\n",
       "Revenue      1.000000  0.983352  0.983352     0.983352\n",
       "ML           0.983352  1.000000  1.000000     1.000000\n",
       "Math         0.983352  1.000000  1.000000     1.000000\n",
       "Temperature  0.983352  1.000000  1.000000     1.000000"
      ]
     },
     "execution_count": 140,
     "metadata": {},
     "output_type": "execute_result"
    }
   ],
   "source": [
    "# comparing the real calculation of the coefficient of determination with with the square pearson coefficient\n",
    "r_sq"
   ]
  },
  {
   "cell_type": "markdown",
   "id": "013fc03f",
   "metadata": {},
   "source": [
    "## RMSE / Root mean square error"
   ]
  },
  {
   "cell_type": "code",
   "execution_count": 149,
   "id": "3d18a035",
   "metadata": {},
   "outputs": [
    {
     "data": {
      "text/plain": [
       "23.014724093311003"
      ]
     },
     "execution_count": 149,
     "metadata": {},
     "output_type": "execute_result"
    }
   ],
   "source": [
    "# RMSE = sqrt(MSE), math:\n",
    "math.sqrt(mse_math)"
   ]
  },
  {
   "cell_type": "code",
   "execution_count": 150,
   "id": "38543052",
   "metadata": {},
   "outputs": [
    {
     "data": {
      "text/plain": [
       "23.374525867068574"
      ]
     },
     "execution_count": 150,
     "metadata": {},
     "output_type": "execute_result"
    }
   ],
   "source": [
    "# RMSE = sqrt(MSE), Ml:\n",
    "math.sqrt(mse_ml)"
   ]
  }
 ],
 "metadata": {
  "kernelspec": {
   "display_name": "Python 3 (ipykernel)",
   "language": "python",
   "name": "python3"
  },
  "language_info": {
   "codemirror_mode": {
    "name": "ipython",
    "version": 3
   },
   "file_extension": ".py",
   "mimetype": "text/x-python",
   "name": "python",
   "nbconvert_exporter": "python",
   "pygments_lexer": "ipython3",
   "version": "3.10.9"
  }
 },
 "nbformat": 4,
 "nbformat_minor": 5
}
